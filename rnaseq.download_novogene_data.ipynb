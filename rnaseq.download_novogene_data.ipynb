{
 "cells": [
  {
   "cell_type": "code",
   "execution_count": 5,
   "metadata": {},
   "outputs": [
    {
     "name": "stdout",
     "output_type": "stream",
     "text": [
      "Overwriting /data/reddylab/Alex/collab/20190701_Matt/processing/rna_seq/scripts/download_rnaseq.download_novogene_data.sh\n"
     ]
    }
   ],
   "source": [
    "%%writefile /data/reddylab/Alex/collab/20190701_Matt/processing/rna_seq/scripts/download_rnaseq.download_novogene_data.sh\n",
    "#!/bin/bash\n",
    "DATA_HOME=/data/reddylab/Alex/collab/20190701_Matt/data/rna_seq/raw_reads/\n",
    "\n",
    "CORE_USER=\"X202SC19121409-Z01_01_07_20_YfzK\"\n",
    "CORE_PROJECT=\"novogene_TylerMatt\"\n",
    "CORE_PASS=\"QdraXF3n\"\n",
    "\n",
    "cd ${DATA_HOME}\n",
    "lftp -u ${CORE_USER},${CORE_PASS} -e \"mirror -v --parallel=16 H202SC19121409/Rawdata; exit\" \"ftp://${CORE_USER}@128.120.88.251\"\n",
    "exit\n"
   ]
  },
  {
   "cell_type": "code",
   "execution_count": 6,
   "metadata": {
    "collapsed": true
   },
   "outputs": [],
   "source": [
    "%%script --out blocking_job_str bash\n",
    "sbatch -o /data/reddylab/Alex/collab/20190701_Matt/processing/rna_seq/logs/download_rnaseq.download_novogene_data.out \\\n",
    " -pnew,all \\\n",
    " --wrap=\"ssh aeb84@Hardac-xfer.genome.duke.edu 'sh /data/reddylab/Alex/collab/20190701_Matt/processing/rna_seq/scripts/download_rnaseq.download_novogene_data.sh' \""
   ]
  },
  {
   "cell_type": "code",
   "execution_count": null,
   "metadata": {
    "collapsed": true
   },
   "outputs": [],
   "source": []
  }
 ],
 "metadata": {
  "kernelspec": {
   "display_name": "Python2 (alex)",
   "language": "python",
   "name": "alex"
  },
  "language_info": {
   "codemirror_mode": {
    "name": "ipython",
    "version": 2
   },
   "file_extension": ".py",
   "mimetype": "text/x-python",
   "name": "python",
   "nbconvert_exporter": "python",
   "pygments_lexer": "ipython2",
   "version": "2.7.16"
  }
 },
 "nbformat": 4,
 "nbformat_minor": 2
}
