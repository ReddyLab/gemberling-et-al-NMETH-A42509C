{
 "cells": [
  {
   "cell_type": "markdown",
   "metadata": {},
   "source": [
    "# genewiz_rnaseq - rna_seq\n",
    "This notebook will create all the necessary files, scripts and folders to pre-process the aforementioned project. Is designed to be used in a jupyter server deployed in a system running SLURM. The majority of the scripts and heavy-lifting processes are wrapped up in sbatch scripts.As an end user, in order to pre-process your samples provided in the spread sheet, you will simply need to *run the entire notebook* (Cell > Run all) and the system should take care of the rest for you.\n",
    "#### Create necessary folder(s)"
   ]
  },
  {
   "cell_type": "code",
   "execution_count": 1,
   "metadata": {
    "collapsed": true
   },
   "outputs": [],
   "source": [
    "%%bash\n",
    "mkdir -p /data/reddylab/Alex/collab/20190701_Matt/data/rna_seq/metadata\n",
    "mkdir -p /data/reddylab/Alex/collab/20190701_Matt/data/rna_seq/raw_reads\n",
    "mkdir -p /data/reddylab/Alex/collab/20190701_Matt/data/rna_seq/processed_raw_reads\n",
    "mkdir -p /data/reddylab/Alex/collab/20190701_Matt/processing/rna_seq/scripts\n",
    "mkdir -p /data/reddylab/Alex/collab/20190701_Matt/processing/rna_seq/jsons\n",
    "mkdir -p /data/reddylab/Alex/collab/20190701_Matt/processing/rna_seq/logs"
   ]
  },
  {
   "cell_type": "markdown",
   "metadata": {},
   "source": [
    "Save metadata file"
   ]
  },
  {
   "cell_type": "code",
   "execution_count": 2,
   "metadata": {},
   "outputs": [
    {
     "name": "stdout",
     "output_type": "stream",
     "text": [
      "Overwriting /data/reddylab/Alex/collab/20190701_Matt/data/rna_seq/metadata/rna_seq_download_metadata.genewiz_rnaseq.txt\n"
     ]
    }
   ],
   "source": [
    "%%writefile /data/reddylab/Alex/collab/20190701_Matt/data/rna_seq/metadata/rna_seq_download_metadata.genewiz_rnaseq.txt\n",
    "Sequencing core user\tSequencing core project\tSequencing core password\tSequencing core library name\tName\tPaired-end or single-end\tGenome\tLibrary type\tStrand specificity\tWith ercc spike-in\n",
    "XXXXXXX\tXXXXXXX\tXXXXXXX\t381\tmm10Liver.rnaseq.non-targeting.rep1\tPE\tmm10\tRNA-seq\tunstranded\tFalse\n",
    "XXXXXXX\tXXXXXXX\tXXXXXXX\t382\tmm10Liver.rnaseq.non-targeting.rep2\tPE\tmm10\tRNA-seq\tunstranded\tFalse\n",
    "XXXXXXX\tXXXXXXX\tXXXXXXX\t383\tmm10Liver.rnaseq.non-targeting.rep3\tPE\tmm10\tRNA-seq\tunstranded\tFalse\n",
    "XXXXXXX\tXXXXXXX\tXXXXXXX\t384\tmm10Liver.rnaseq.PBS.rep1\tPE\tmm10\tRNA-seq\tunstranded\tFalse\n",
    "XXXXXXX\tXXXXXXX\tXXXXXXX\t385\tmm10Liver.rnaseq.non-targeting.rep4\tPE\tmm10\tRNA-seq\tunstranded\tFalse\n",
    "XXXXXXX\tXXXXXXX\tXXXXXXX\t386\tmm10Liver.rnaseq.PDX1.rep1\tPE\tmm10\tRNA-seq\tunstranded\tFalse\n",
    "XXXXXXX\tXXXXXXX\tXXXXXXX\t387\tmm10Liver.rnaseq.PDX1.rep2\tPE\tmm10\tRNA-seq\tunstranded\tFalse\n",
    "XXXXXXX\tXXXXXXX\tXXXXXXX\t388\tmm10Liver.rnaseq.PDX1.rep3\tPE\tmm10\tRNA-seq\tunstranded\tFalse\n",
    "XXXXXXX\tXXXXXXX\tXXXXXXX\t389\tmm10Liver.rnaseq.PDX1.rep4\tPE\tmm10\tRNA-seq\tunstranded\tFalse\n",
    "XXXXXXX\tXXXXXXX\tXXXXXXX\t3810\tmm10Liver.rnaseq.PBS.rep2\tPE\tmm10\tRNA-seq\tunstranded\tFalse\n",
    "XXXXXXX\tXXXXXXX\tXXXXXXX\t3811\tmm10Liver.rnaseq.PBS.rep3\tPE\tmm10\tRNA-seq\tunstranded\tFalse\n",
    "XXXXXXX\tXXXXXXX\tXXXXXXX\t3812\tmm10Liver.rnaseq.PBS.rep4\tPE\tmm10\tRNA-seq\tunstranded\tFalse\n"
   ]
  },
  {
   "cell_type": "markdown",
   "metadata": {},
   "source": [
    "#### Download FASTQ from sftp\n",
    "Create file to download FASTQ files"
   ]
  },
  {
   "cell_type": "code",
   "execution_count": 1,
   "metadata": {},
   "outputs": [
    {
     "name": "stdout",
     "output_type": "stream",
     "text": [
      "Writing /data/reddylab/Alex/collab/20190701_Matt/processing/rna_seq/scripts/download_genewiz_rnaseq.sh\n"
     ]
    }
   ],
   "source": [
    "%%writefile /data/reddylab/Alex/collab/20190701_Matt/processing/rna_seq/scripts/download_genewiz_rnaseq.sh\n",
    "#!/bin/bash\n",
    "METADATA=/data/reddylab/Alex/collab/20190701_Matt/data/rna_seq/metadata/rna_seq_download_metadata.genewiz_rnaseq.txt\n",
    "DATA_HOME=/data/reddylab/Alex/collab/20190701_Matt/data/rna_seq\n",
    "mkdir -p ${DATA_HOME}/raw_reads/\n",
    "\n",
    "read CORE_USER CORE_PROJECT CORE_PASS <<< $(cut -f 1,2,3 $METADATA | tail -n+2 | sort -u)\n",
    "cd ${DATA_HOME}/raw_reads/\n",
    "CORE_USER=\"lastpass\"\n",
    "CORE_PASS=\"lastpass\"\n",
    "GENEWIZ_PROJECT=\"30-295498228\"\n",
    "lftp -u ${CORE_USER},${CORE_PASS} -e \"mirror --parallel=16 --only-missing ${GENEWIZ_PROJECT}/00_fastq; exit\" \"sftp://${CORE_USER}@sftp.genewiz.com\"\n",
    "exit\n"
   ]
  },
  {
   "cell_type": "markdown",
   "metadata": {},
   "source": [
    "Execute file to download files"
   ]
  },
  {
   "cell_type": "code",
   "execution_count": null,
   "metadata": {
    "collapsed": true
   },
   "outputs": [],
   "source": [
    "%%script --out blocking_job_str bash\n",
    "sbatch -o /data/reddylab/Alex/collab/20190701_Matt/processing/rna_seq/logs/genewiz_rnaseq_download_fastq_files.out \\\n",
    " -p new,all \\\n",
    " --wrap=\"ssh aeb84@Hardac-xfer.genome.duke.edu 'sh /data/reddylab/Alex/collab/20190701_Matt/processing/rna_seq/scripts/download_genewiz_rnaseq.sh' \""
   ]
  },
  {
   "cell_type": "markdown",
   "metadata": {},
   "source": [
    "Extract blocking job id"
   ]
  },
  {
   "cell_type": "code",
   "execution_count": null,
   "metadata": {
    "collapsed": true
   },
   "outputs": [],
   "source": [
    "import re\n",
    "blocking_job = re.match('Submitted batch job (\\d+).*', blocking_job_str).group(1)"
   ]
  },
  {
   "cell_type": "markdown",
   "metadata": {},
   "source": [
    "#### Ungzip FASTQ files"
   ]
  },
  {
   "cell_type": "code",
   "execution_count": 12,
   "metadata": {},
   "outputs": [
    {
     "name": "stdout",
     "output_type": "stream",
     "text": [
      "Overwriting /data/reddylab/Alex/collab/20190701_Matt/processing/rna_seq/scripts/ungzip_genewiz_rnaseq.sh\n"
     ]
    }
   ],
   "source": [
    "%%writefile /data/reddylab/Alex/collab/20190701_Matt/processing/rna_seq/scripts/ungzip_genewiz_rnaseq.sh\n",
    "#!/bin/bash\n",
    "ORDER=genewiz_rnaseq\n",
    "PROJECT_HOME=/data/reddylab/Alex/collab/20190701_Matt\n",
    "METADATA=/data/reddylab/Alex/collab/20190701_Matt/data/rna_seq/metadata/rna_seq_download_metadata.genewiz_rnaseq.txt\n",
    "RAW_DATA_DIR=${PROJECT_HOME}/data/rna_seq/raw_reads/${ORDER}\n",
    "\n",
    "seq_name_header=$(/bin/grep -Eoi \"sequencing.?core.?library.?name\" ${METADATA})\n",
    "if [[ $? == 1 ]];\n",
    "then\n",
    "    echo -e \"ERROR: Sequencing core library name not found in ${METADATA}. Fix it\"\n",
    "    exit 1\n",
    "fi\n",
    "\n",
    "if [[ ! -e ${RAW_DATA_DIR} ]];\n",
    "then\n",
    "    RAW_DATA_DIR=${PROJECT_HOME}/data/rna_seq/raw_reads/${ORDER^^}\n",
    "fi\n",
    "PROCESSED_DATA_DIR=${PROJECT_HOME}/data/rna_seq/processed_raw_reads/${ORDER}\n",
    "\n",
    "mkdir -p ${PROCESSED_DATA_DIR}\n",
    "\n",
    "sample=$(/data/reddylab/software/bin/print_tab_cols.awk -v cols=\"${seq_name_header}\" ${METADATA} |\\\n",
    "            awk -v SLURM_ARRAY_TASK_ID=${SLURM_ARRAY_TASK_ID} 'NR==SLURM_ARRAY_TASK_ID+1{print}');\n",
    "\n",
    "for ii in $(/bin/find ${RAW_DATA_DIR}/ -type f | /bin/grep \"${sample/ /}_.*.gz\");\n",
    "do\n",
    "    sample_gz_file=$(basename ${ii})\n",
    "#     if [[ ! -e ${PROCESSED_DATA_DIR}/${sample_gz_file/.gz/} ]];\n",
    "#     then\n",
    "        gzip -cd ${ii} > ${PROCESSED_DATA_DIR}/${sample_gz_file/.gz/};\n",
    "#     fi\n",
    "done"
   ]
  },
  {
   "cell_type": "markdown",
   "metadata": {},
   "source": [
    "Execute file to ungzip FASTQ files"
   ]
  },
  {
   "cell_type": "code",
   "execution_count": 3,
   "metadata": {
    "collapsed": true
   },
   "outputs": [],
   "source": [
    "%%script --out blocking_job_str bash -s \"$blocking_job\"\n",
    "sbatch -o /data/reddylab/Alex/collab/20190701_Matt/processing/rna_seq/logs/genewiz_rnaseq_ungzip_fastq_files_%a.out \\\n",
    " -p new,all \\\n",
    " --array 10,11 \\\n",
    " /data/reddylab/Alex/collab/20190701_Matt/processing/rna_seq/scripts/ungzip_genewiz_rnaseq.sh"
   ]
  },
  {
   "cell_type": "markdown",
   "metadata": {},
   "source": [
    "Extract blocking job id"
   ]
  },
  {
   "cell_type": "code",
   "execution_count": 4,
   "metadata": {
    "collapsed": true
   },
   "outputs": [],
   "source": [
    "import re\n",
    "blocking_job = re.match('Submitted batch job (\\d+).*', blocking_job_str).group(1)"
   ]
  },
  {
   "cell_type": "markdown",
   "metadata": {},
   "source": [
    "#### Merge lanes of FASTQ files"
   ]
  },
  {
   "cell_type": "code",
   "execution_count": 11,
   "metadata": {},
   "outputs": [
    {
     "name": "stdout",
     "output_type": "stream",
     "text": [
      "Overwriting /data/reddylab/Alex/collab/20190701_Matt/processing/rna_seq/scripts/merge_lanes_genewiz_rnaseq.sh\n"
     ]
    }
   ],
   "source": [
    "%%writefile /data/reddylab/Alex/collab/20190701_Matt/processing/rna_seq/scripts/merge_lanes_genewiz_rnaseq.sh\n",
    "#!/bin/bash\n",
    "#SBATCH --array=0-12%20\n",
    "ORDER=genewiz_rnaseq\n",
    "PROCESSED_DATA_DIR=/data/reddylab/Alex/collab/20190701_Matt/data/rna_seq/processed_raw_reads/${ORDER}\n",
    "METADATA=/data/reddylab/Alex/collab/20190701_Matt/data/rna_seq/metadata/rna_seq_download_metadata.genewiz_rnaseq.txt\n",
    "\n",
    "mkdir -p ${PROCESSED_DATA_DIR}\n",
    "cd ${PROCESSED_DATA_DIR}\n",
    "\n",
    "seq_name_header=$(/bin/grep -Eoi \"sequencing.?core.?library.?name\" ${METADATA})\n",
    "if [[ $? == 1 ]];\n",
    "then\n",
    "    echo -e \"ERROR: Sequencing core library name not found in ${METADATA}\"\n",
    "    exit 1\n",
    "fi\n",
    "\n",
    "name_header=$(/bin/grep -Poi \"\\tname\\t\" ${METADATA})\n",
    "if [[ $? == 1 ]];\n",
    "then\n",
    "    echo -e \"ERROR: Library Name column not found in ${METADATA}\"\n",
    "    exit 1\n",
    "fi\n",
    "name_header=$(echo ${name_header} | cut -f2)\n",
    "\n",
    "seq_type_header=$(head -1 ${METADATA} | /bin/grep -Poi \"paired.?end.?or.?single.?end\")\n",
    "if [[ $? == 1 ]];\n",
    "then\n",
    "    echo -e \"ERROR: Paired-end or single-end column not found in ${METADATA}\"\n",
    "    exit 1\n",
    "fi\n",
    "\n",
    "sample_seq_name=$(/data/reddylab/software/bin/print_tab_cols.awk -v cols=\"${seq_name_header}\" ${METADATA} \\\n",
    "    | awk -v SLURM_ARRAY_TASK_ID=${SLURM_ARRAY_TASK_ID} 'NR==SLURM_ARRAY_TASK_ID+1{print}');\n",
    "sample_name=$(/data/reddylab/software/bin/print_tab_cols.awk -v cols=\"${name_header}\" ${METADATA} \\\n",
    "    | awk -v SLURM_ARRAY_TASK_ID=${SLURM_ARRAY_TASK_ID} 'NR==SLURM_ARRAY_TASK_ID+1{print}');\n",
    "seq_type=$(/data/reddylab/software/bin/print_tab_cols.awk -v cols=\"${seq_type_header}\" ${METADATA} \\\n",
    "    | awk -v SLURM_ARRAY_TASK_ID=${SLURM_ARRAY_TASK_ID} 'NR==SLURM_ARRAY_TASK_ID+1{print}');\n",
    "\n",
    "\n",
    "for read_pair in R1 R2;\n",
    "do\n",
    "    sample_files=$(/bin/ls ${sample_seq_name/ /}_${read_pair}_*)\n",
    "    if [[ ${read_pair} == \"R1\" || (${seq_type/ /} == \"PE\" || ${seq_type/ /} == \"pe\") ]];\n",
    "    then\n",
    "        # Merge all lanes\n",
    "        merged=$(echo ${sample_files} | awk '{print $1}')\n",
    "#         cat ${sample_files} > ${merged};\n",
    "#         rm -f ${sample_files}\n",
    "\n",
    "        # Rename samples with our sample Names\n",
    "        dest_filename=$(basename ${merged} | sed -r 's/\\_(R[123])\\_/\\.\\1\\./; s/\\.[0-9]+\\.fastq/\\.fastq/')\n",
    "        mv ${merged} ${dest_filename}\n",
    "\n",
    "        cleaned_dest_filename=${dest_filename/${sample_seq_name/ /}/${sample_name/ /}}\n",
    "\n",
    "        if [[ ${seq_type/ /} == \"SE\" || ${seq_type/ /} == \"se\" ]];\n",
    "        then\n",
    "            cleaned_dest_filename=${cleaned_dest_filename/.R1/}\n",
    "        fi\n",
    "        \n",
    "        mv ${dest_filename} ${cleaned_dest_filename}\n",
    "    fi\n",
    "done\n"
   ]
  },
  {
   "cell_type": "markdown",
   "metadata": {},
   "source": [
    "Execute file to merge lanes of FASTQ files"
   ]
  },
  {
   "cell_type": "code",
   "execution_count": 6,
   "metadata": {
    "collapsed": true
   },
   "outputs": [],
   "source": [
    "%%script --out blocking_job_str bash -s \"$blocking_job\"\n",
    "sbatch -o /data/reddylab/Alex/collab/20190701_Matt/processing/rna_seq/logs/genewiz_rnaseq_merge_fastq_files_%a.out \\\n",
    " -p new,all \\\n",
    " --depend afterok:$1 \\\n",
    " --array 10-11 \\\n",
    " /data/reddylab/Alex/collab/20190701_Matt/processing/rna_seq/scripts/merge_lanes_genewiz_rnaseq.sh"
   ]
  },
  {
   "cell_type": "markdown",
   "metadata": {},
   "source": [
    "Extract blocking job id"
   ]
  },
  {
   "cell_type": "code",
   "execution_count": 7,
   "metadata": {
    "collapsed": true
   },
   "outputs": [],
   "source": [
    "import re\n",
    "blocking_job = re.match('Submitted batch job (\\d+).*', blocking_job_str).group(1)"
   ]
  },
  {
   "cell_type": "markdown",
   "metadata": {},
   "source": [
    "#### Create JSON files for CWL pipeline files"
   ]
  },
  {
   "cell_type": "code",
   "execution_count": 4,
   "metadata": {},
   "outputs": [
    {
     "name": "stdout",
     "output_type": "stream",
     "text": [
      "Overwriting /data/reddylab/Alex/collab/20190701_Matt/processing/rna_seq/scripts/cwl_json_gen_genewiz_rnaseq.sh\n"
     ]
    }
   ],
   "source": [
    "%%writefile /data/reddylab/Alex/collab/20190701_Matt/processing/rna_seq/scripts/cwl_json_gen_genewiz_rnaseq.sh\n",
    "#!/bin/bash\n",
    "ORDER=genewiz_rnaseq\n",
    "PROCESSED_DATA_DIR=/data/reddylab/Alex/collab/20190701_Matt/data/rna_seq/processed_raw_reads/${ORDER}\n",
    "METADATA=/data/reddylab/Alex/collab/20190701_Matt/data/rna_seq/metadata/rna_seq_download_metadata.genewiz_rnaseq.txt\n",
    "\n",
    "python /data/reddylab/software/cwl/GGR-cwl/v1.0/json-generator/run.py \\\n",
    "    -m ${METADATA} \\\n",
    "    -d ${PROCESSED_DATA_DIR} \\\n",
    "    -o /data/reddylab/Alex/collab/20190701_Matt/processing/rna_seq/jsons \\\n",
    "    -t rna-seq \\\n",
    "    --mem 48000 \\\n",
    "    --nthreads 24 \\\n",
    "    --separate-jsons \\\n",
    "    --skip-star-2pass \\\n",
    "    --read-length 150"
   ]
  },
  {
   "cell_type": "markdown",
   "metadata": {},
   "source": [
    "Execute file to create JSON files"
   ]
  },
  {
   "cell_type": "code",
   "execution_count": 5,
   "metadata": {
    "collapsed": true
   },
   "outputs": [],
   "source": [
    "%%script --out blocking_job_str bash -s \"$blocking_job\"\n",
    "#  --depend afterok:$1 \\\n",
    "source /data/reddylab/software/miniconda2/bin/activate cwl10\n",
    "sbatch -pnew,all -o /data/reddylab/Alex/collab/20190701_Matt/processing/rna_seq/logs/genewiz_rnaseq_cwl_json_gen.out \\\n",
    " /data/reddylab/Alex/collab/20190701_Matt/processing/rna_seq/scripts/cwl_json_gen_genewiz_rnaseq.sh"
   ]
  },
  {
   "cell_type": "markdown",
   "metadata": {},
   "source": [
    "Extract blocking job id"
   ]
  },
  {
   "cell_type": "code",
   "execution_count": 16,
   "metadata": {
    "collapsed": true
   },
   "outputs": [],
   "source": [
    "import re\n",
    "blocking_job = re.match('Submitted batch job (\\d+).*', blocking_job_str).group(1)"
   ]
  },
  {
   "cell_type": "markdown",
   "metadata": {},
   "source": [
    "#### Create SLURM array master bash file for pe-unstranded-with-sjdb samples"
   ]
  },
  {
   "cell_type": "code",
   "execution_count": 6,
   "metadata": {},
   "outputs": [
    {
     "name": "stdout",
     "output_type": "stream",
     "text": [
      "Writing /data/reddylab/Alex/collab/20190701_Matt/processing/rna_seq/scripts/genewiz_rnaseq-pe-unstranded-with-sjdb.sh\n"
     ]
    }
   ],
   "source": [
    "%%writefile /data/reddylab/Alex/collab/20190701_Matt/processing/rna_seq/scripts/genewiz_rnaseq-pe-unstranded-with-sjdb.sh\n",
    "#!/bin/bash\n",
    "#SBATCH --job-name=cwl_rna_seq\n",
    "#SBATCH --output=/data/reddylab/Alex/collab/20190701_Matt/processing/rna_seq/logs/genewiz_rnaseq-pe-unstranded-with-sjdb-%a.out\n",
    "#SBATCH --mail-user=aeb84@duke.edu\n",
    "#SBATCH --mail-type=FAIL,END\n",
    "#SBATCH --mem=48000\n",
    "#SBATCH --cpus-per-task=24\n",
    "\n",
    "export PATH=\"/data/reddylab/software/bin:$PATH\"\n",
    "export PATH=\"/data/reddylab/software/cwl/bin:$PATH\"\n",
    "export PATH=\"/data/reddylab/software/preseq_v2.0:$PATH\"\n",
    "export PATH=\"/data/reddylab/software/rsem-1.2.21/:$PATH\"\n",
    "export PATH=\"/data/reddylab/software/STAR-STAR_2.4.1a/bin/Linux_x86_64/:$PATH\"\n",
    "export PATH=\"/data/reddylab/software/subread-1.4.6-p4-Linux-x86_64/bin/:$PATH\"\n",
    "export PATH=\"/data/reddylab/software/bamtools-2.2.3/bin/:$PATH\"\n",
    "\n",
    "export PATH=\"/data/reddylab/software/miniconda2/envs/cwl10/bin:$PATH\"\n",
    "\n",
    "module load bedtools2\n",
    "module load fastqc\n",
    "module load samtools\n",
    "module load bowtie2\n",
    "module load java\n",
    "\n",
    "# For Fastqc\n",
    "export DISPLAY=:0.0\n",
    "\n",
    "# Make sure temporary files and folders are created in a specific folder\n",
    "mkdir -p /data/reddylab/Alex/collab/20190701_Matt/processing/rna_seq/tmpdirs/tmp-genewiz_rnaseq-pe-unstranded-with-sjdb-${SLURM_ARRAY_TASK_ID}-\n",
    "export TMPDIR=\"/data/reddylab/Alex/collab/20190701_Matt/processing/rna_seq/tmpdirs/tmp-genewiz_rnaseq-pe-unstranded-with-sjdb-${SLURM_ARRAY_TASK_ID}-\"\n",
    "\n",
    "cwltool --debug \\\n",
    "    --non-strict \\\n",
    "    --preserve-environment PATH \\\n",
    "    --preserve-environment DISPLAY \\\n",
    "    --preserve-environment TMPDIR \\\n",
    "    --outdir /data/reddylab/Alex/collab/20190701_Matt/processing/rna_seq/genewiz_rnaseq-pe-unstranded-with-sjdb  \\\n",
    "    --no-container \\\n",
    "    /data/reddylab/software/cwl/GGR-cwl/v1.0/RNA-seq_pipeline/pipeline-pe-unstranded-with-sjdb.cwl \\\n",
    "    /data/reddylab/Alex/collab/20190701_Matt/processing/rna_seq/jsons/rna_seq_download_metadata.genewiz_rnaseq-pe-unstranded-with-sjdb-${SLURM_ARRAY_TASK_ID}.json"
   ]
  },
  {
   "cell_type": "markdown",
   "metadata": {},
   "source": [
    "Execute SLURM array master file"
   ]
  },
  {
   "cell_type": "code",
   "execution_count": 9,
   "metadata": {
    "collapsed": true
   },
   "outputs": [],
   "source": [
    "%%script --out blocking_job_str bash -s \"$blocking_job\"\n",
    "source /data/reddylab/software/miniconda2/bin/activate cwl10\n",
    "sbatch -p new,all \\\n",
    " --depend afterok:$1 \\\n",
    " --array 2-3 \\\n",
    " /data/reddylab/Alex/collab/20190701_Matt/processing/rna_seq/scripts/genewiz_rnaseq-pe-unstranded-with-sjdb.sh"
   ]
  },
  {
   "cell_type": "markdown",
   "metadata": {},
   "source": [
    "Extract blocking job id"
   ]
  },
  {
   "cell_type": "code",
   "execution_count": null,
   "metadata": {
    "collapsed": true
   },
   "outputs": [],
   "source": [
    "import re\n",
    "blocking_job = re.match('Submitted batch job (\\d+).*', blocking_job_str).group(1)"
   ]
  },
  {
   "cell_type": "markdown",
   "metadata": {},
   "source": [
    "#### Create QC generating script"
   ]
  },
  {
   "cell_type": "code",
   "execution_count": 10,
   "metadata": {},
   "outputs": [
    {
     "name": "stdout",
     "output_type": "stream",
     "text": [
      "Writing /data/reddylab/Alex/collab/20190701_Matt/processing/rna_seq/scripts/generate_qc_cell_genewiz_rnaseq-pe-unstranded-with-sjdb.sh\n"
     ]
    }
   ],
   "source": [
    "%%writefile /data/reddylab/Alex/collab/20190701_Matt/processing/rna_seq/scripts/generate_qc_cell_genewiz_rnaseq-pe-unstranded-with-sjdb.sh\n",
    "#!/bin/bash\n",
    "#SBATCH --job-name=qc\n",
    "#SBATCH --output=/data/reddylab/Alex/collab/20190701_Matt/processing/rna_seq/logs/qc_gen.genewiz_rnaseq-pe-unstranded-with-sjdb.out\n",
    "\n",
    "source /data/reddylab/software/miniconda2/bin/activate alex\n",
    "cd /data/reddylab/Alex/collab/20190701_Matt/processing/rna_seq/genewiz_rnaseq-pe-unstranded-with-sjdb\n",
    "\n",
    "python /data/reddylab/software/cwl/bin/generate_stats_rnaseq_paired_end.py ./ \\\n",
    "    -samples $(/bin/ls -1 *PBC.txt | sed 's@.PBC.txt@@') \\\n",
    "> qc.txt"
   ]
  },
  {
   "cell_type": "markdown",
   "metadata": {},
   "source": [
    "Generate QCs for genewiz_rnaseq-pe-unstranded-with-sjdb"
   ]
  },
  {
   "cell_type": "code",
   "execution_count": 11,
   "metadata": {
    "collapsed": true
   },
   "outputs": [],
   "source": [
    "%%script --out blocking_job_str bash -s \"$blocking_job\"\n",
    "sbatch -p new,all \\\n",
    " /data/reddylab/Alex/collab/20190701_Matt/processing/rna_seq/scripts/generate_qc_cell_genewiz_rnaseq-pe-unstranded-with-sjdb.sh"
   ]
  },
  {
   "cell_type": "markdown",
   "metadata": {},
   "source": [
    "Extract blocking job id"
   ]
  },
  {
   "cell_type": "code",
   "execution_count": null,
   "metadata": {
    "collapsed": true
   },
   "outputs": [],
   "source": [
    "import re\n",
    "blocking_job = re.match('Submitted batch job (\\d+).*', blocking_job_str).group(1)"
   ]
  },
  {
   "cell_type": "markdown",
   "metadata": {},
   "source": [
    "### Move raw reads to Flowcells"
   ]
  },
  {
   "cell_type": "code",
   "execution_count": 2,
   "metadata": {
    "collapsed": true
   },
   "outputs": [],
   "source": [
    "%%bash\n",
    "mkdir -p /data/reddylab/Flowcells/20190701_Matt/rna_seq/genewiz/\n",
    "mkdir -p /data/reddylab/Flowcells/20190701_Matt/rna_seq/novogene/\n",
    "cp /data/reddylab/Alex/collab/20190701_Matt/data/rna_seq/metadata/rna_seq_download_metadata.genewiz_rnaseq.txt \\\n",
    "    /data/reddylab/Alex/collab/20190701_Matt/data/rna_seq/raw_reads/00_fastq/\n",
    "mv /data/reddylab/Alex/collab/20190701_Matt/data/rna_seq/raw_reads/00_fastq \\\n",
    "    /data/reddylab/Flowcells/20190701_Matt/rna_seq/genewiz/\n",
    "ln -s /data/reddylab/Flowcells/20190701_Matt/rna_seq/genewiz/00_fastq \\\n",
    "    /data/reddylab/Alex/collab/20190701_Matt/data/rna_seq/raw_reads/00_fastq\n",
    "#\n",
    "cp /data/reddylab/Alex/collab/20190701_Matt/data/rna_seq/metadata/rna_seq_download_metadata.rnaseq.novogene_pcks9.txt \\\n",
    "    /data/reddylab/Alex/collab/20190701_Matt/data/rna_seq/raw_reads/Rawdata/\n",
    "mv /data/reddylab/Alex/collab/20190701_Matt/data/rna_seq/raw_reads/Rawdata \\\n",
    "    /data/reddylab/Flowcells/20190701_Matt/rna_seq/novogene/\n",
    "ln -s /data/reddylab/Flowcells/20190701_Matt/rna_seq/novogene/Rawdata \\\n",
    "    /data/reddylab/Alex/collab/20190701_Matt/data/rna_seq/raw_reads/Rawdata"
   ]
  },
  {
   "cell_type": "code",
   "execution_count": null,
   "metadata": {
    "collapsed": true
   },
   "outputs": [],
   "source": []
  }
 ],
 "metadata": {
  "kernelspec": {
   "display_name": "alex_dev",
   "language": "python",
   "name": "alex_dev"
  },
  "language_info": {
   "codemirror_mode": {
    "name": "ipython",
    "version": 2
   },
   "file_extension": ".py",
   "mimetype": "text/x-python",
   "name": "python",
   "nbconvert_exporter": "python",
   "pygments_lexer": "ipython2",
   "version": "2.7.15"
  }
 },
 "nbformat": 4,
 "nbformat_minor": 1
}
