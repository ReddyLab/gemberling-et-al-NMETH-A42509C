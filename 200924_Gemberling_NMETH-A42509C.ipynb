{
 "cells": [
  {
   "cell_type": "markdown",
   "metadata": {},
   "source": [
    "# Analysis of H3K27ac ChIP-seq in T cells from dCas9-p300 mice  "
   ]
  },
  {
   "cell_type": "markdown",
   "metadata": {},
   "source": [
    "### Notes\n",
    "\n",
    "1) 20/12/07 - Issue with contaminating reads from ATAC-seq in CRE+g5-rep3 H3K27ac ChIP-seq from running on the same flow cell. \n",
    "   - We wrote code below to remove the extra reads\n",
    "   \n",
    "2) 20/12/07 - Peak caller was not picking up the FoxP3 region; therefore merged replicates and re-ran MACS2 broad peak caller to use for union set\n",
    "  "
   ]
  },
  {
   "cell_type": "code",
   "execution_count": null,
   "metadata": {
    "collapsed": true
   },
   "outputs": [],
   "source": [
    "#Code from for demultiplexing contaminating reads\n",
    "%%bash\n",
    "comm  -2 -3  \\\n",
    "    <(gzip -dc /data/reddylab/Keith/collab/200924_Gemberling/data/chip_seq/processed_raw_reads/Siklenka_6683_201201A5/KS162_CrePos_g5_rep3.R1.fastq.gz  \\\n",
    "        | awk 'NR%4==1{res=$1}NR%4>1{res=res\"\\t\"$1}NR%4==0{res=res\"\\t\"$1; print res}'  \\\n",
    "        | sort -k1,1) \\\n",
    "    <(gzip -dc /data/reddylab/Keith/encode4_duke/data/atac_seq/processed_raw_reads/Keith_6683_201201A5/KS136_Th17ASTARRInput_rep1.R1.fastq.gz \\\n",
    "        | awk 'NR%4==1{res=$1}NR%4>1{res=res\"\\t\"$1}NR%4==0{res=res\"\\t\"$1; print res}' \\\n",
    "        | sort -k1,1) \\\n",
    "| tr '\\t' '\\n' \\\n",
    "| gzip -c > /data/reddylab/Alex/tmp/cleaned.KS162_CrePos_g5_rep3.R1.fastq.gz\n",
    "comm  -2 -3  \\\n",
    "    <(gzip -dc /data/reddylab/Keith/collab/200924_Gemberling/data/chip_seq/processed_raw_reads/Siklenka_6683_201201A5/KS162_CrePos_g5_rep3.R2.fastq.gz  \\\n",
    "        | awk 'NR%4==1{res=$1}NR%4>1{res=res\"\\t\"$1}NR%4==0{res=res\"\\t\"$1; print res}'  \\\n",
    "        | sort -k1,1) \\\n",
    "    <(gzip -dc /data/reddylab/Keith/encode4_duke/data/atac_seq/processed_raw_reads/Keith_6683_201201A5/KS136_Th17ASTARRInput_rep1.R2.fastq.gz \\\n",
    "        | awk 'NR%4==1{res=$1}NR%4>1{res=res\"\\t\"$1}NR%4==0{res=res\"\\t\"$1; print res}' \\\n",
    "        | sort -k1,1) \\\n",
    "| tr '\\t' '\\n' \\\n",
    "| gzip -c > /data/reddylab/Alex/tmp/cleaned.KS162_CrePos_g5_rep3.R2.fastq.gz"
   ]
  },
  {
   "cell_type": "code",
   "execution_count": null,
   "metadata": {
    "collapsed": true
   },
   "outputs": [],
   "source": [
    "# # Convert bed file to SAF format for featureCount input\n",
    "## 20/12/08 - take q3 of broadPeak; convert to saf for feature counts\n",
    "# %%bash\n",
    "source /data/reddylab/software/miniconda2/bin/activate alex\n",
    "OUTDIR=/gpfs/fs1/data/reddylab/Keith/collab/200924_Gemberling/analysis/\n",
    "python /data/reddylab/Alex/reddylab_utils/scripts/bed_to_saf.py \\\n",
    "    --bed \\\n",
    "-beds /gpfs/fs1/data/reddylab/Keith/collab/200924_Gemberling/analysis/201209_Gemberling2012_K27acChIP-broadPeak-UnionPeakset-filtq3.bed \\\n",
    "-safs ${OUTDIR}/201209_Gemberling2012_K27acChIP-broadPeak-UnionPeaksetFiltq3.saf\n"
   ]
  },
  {
   "cell_type": "code",
   "execution_count": null,
   "metadata": {
    "collapsed": true
   },
   "outputs": [],
   "source": [
    "#ChIP-seq K27ac featureCounts from broadPeaks\n",
    "#Generate count table for k27ac ChIP-seq\n",
    "\n",
    "###Generate count table with featureCounts in paired end mode\n",
    "%%bash\n",
    "cd /gpfs/fs1/data/reddylab/Keith/collab/200924_Gemberling/analysis\n",
    "sbatch -pnew,all \\\n",
    "    --cpus-per-task 16 \\\n",
    "    --mem 32G \\\n",
    "    -o /gpfs/fs1/data/reddylab/Keith/collab/200924_Gemberling/analysis/logs/201209_Gemberling2012_K27acChIP.broadPeakFiltq3.featureCounts.out \\\n",
    "    <<'EOF'\n",
    "#!/bin/bash\n",
    "/data/reddylab/software/subread-1.4.6-p4-Linux-x86_64/bin/featureCounts \\\n",
    "    -T 16 \\\n",
    "    -F SAF \\\n",
    "    -p \\\n",
    "-a /gpfs/fs1/data/reddylab/Keith/collab/200924_Gemberling/analysis/201209_Gemberling2012_K27acChIP-broadPeak-UnionPeaksetFiltq3.saf \\\n",
    "-o /gpfs/fs1/data/reddylab/Keith/collab/200924_Gemberling/analysis/201209_Gemberling2012_K27acChIP.broadPeakFiltq3.featureCounts.txt \\\n",
    "/gpfs/fs1/data/reddylab/Keith/collab/200924_Gemberling/processing/chip_seq/Siklenka_6621_201109A5-pe/KS157.CREneg.g5.K27ac.rep1.masked.dedup.sorted.bam \\\n",
    "/gpfs/fs1/data/reddylab/Keith/collab/200924_Gemberling/processing/chip_seq/Siklenka_6621_201109A5-pe/KS157.CREneg.g5.K27ac.rep2.masked.dedup.sorted.bam \\\n",
    "/gpfs/fs1/data/reddylab/Keith/collab/200924_Gemberling/processing/chip_seq/Siklenka_6621_201109A5-pe/KS157.CREneg.g5.K27ac.rep3.masked.dedup.sorted.bam \\\n",
    "/gpfs/fs1/data/reddylab/Keith/collab/200924_Gemberling/processing/chip_seq/Siklenka_6683_201201A5-pe/KS162_CrePos_g5_rep1.masked.dedup.sorted.bam \\\n",
    "/gpfs/fs1/data/reddylab/Keith/collab/200924_Gemberling/processing/chip_seq/Siklenka_6683_201201A5-pe/KS162_CrePos_g5_rep2.masked.dedup.sorted.bam \\\n",
    "/gpfs/fs1/data/reddylab/Keith/collab/200924_Gemberling/processing/chip_seq/Siklenka_6683_201201A5-pe/cleaned.comm.KS162_CrePos_g5_rep3.masked.dedup.sorted.bam \\\n",
    "/gpfs/fs1/data/reddylab/Keith/collab/200924_Gemberling/processing/chip_seq/Siklenka_6683_201201A5-pe/KS162_CrePos_NTC_rep1.masked.dedup.sorted.bam \\\n",
    "/gpfs/fs1/data/reddylab/Keith/collab/200924_Gemberling/processing/chip_seq/Siklenka_6683_201201A5-pe/KS162_CrePos_NTC_rep2.masked.dedup.sorted.bam \\\n",
    "/gpfs/fs1/data/reddylab/Keith/collab/200924_Gemberling/processing/chip_seq/Siklenka_6683_201201A5-pe/KS162_CrePos_NTC_rep3.masked.dedup.sorted.bam \\\n",
    "\n",
    "EOF"
   ]
  },
  {
   "cell_type": "code",
   "execution_count": 2,
   "metadata": {},
   "outputs": [
    {
     "data": {
      "text/html": [
       "<table>\n",
       "<caption>A data.frame: 6 × 15</caption>\n",
       "<thead>\n",
       "\t<tr><th></th><th scope=col>Geneid</th><th scope=col>Chr</th><th scope=col>Start</th><th scope=col>End</th><th scope=col>Strand</th><th scope=col>Length</th><th scope=col>KS157_CREneg_g5.rep1</th><th scope=col>KS157_CREneg_g5.rep2</th><th scope=col>KS157_CREneg_g5.rep3</th><th scope=col>KS162_CrePos_g5.rep1</th><th scope=col>KS162_CrePos_g5.rep2</th><th scope=col>KS162_CrePos_g5.rep3</th><th scope=col>KS162_CrePos_NTC.rep1</th><th scope=col>KS162_CrePos_NTC.rep2</th><th scope=col>KS162_CrePos_NTC.rep3</th></tr>\n",
       "\t<tr><th></th><th scope=col>&lt;fct&gt;</th><th scope=col>&lt;fct&gt;</th><th scope=col>&lt;int&gt;</th><th scope=col>&lt;int&gt;</th><th scope=col>&lt;fct&gt;</th><th scope=col>&lt;int&gt;</th><th scope=col>&lt;int&gt;</th><th scope=col>&lt;int&gt;</th><th scope=col>&lt;int&gt;</th><th scope=col>&lt;int&gt;</th><th scope=col>&lt;int&gt;</th><th scope=col>&lt;int&gt;</th><th scope=col>&lt;int&gt;</th><th scope=col>&lt;int&gt;</th><th scope=col>&lt;int&gt;</th></tr>\n",
       "</thead>\n",
       "<tbody>\n",
       "\t<tr><th scope=row>1</th><td>GL456216.1_15807_17235  </td><td>GL456216.1</td><td> 15807</td><td> 17235</td><td>+</td><td>1429</td><td>529</td><td>548</td><td>339</td><td>132</td><td>84</td><td>175</td><td>224</td><td>260</td><td>203</td></tr>\n",
       "\t<tr><th scope=row>2</th><td>GL456216.1_49148_49467  </td><td>GL456216.1</td><td> 49148</td><td> 49467</td><td>+</td><td> 320</td><td> 20</td><td> 14</td><td> 10</td><td> 11</td><td> 5</td><td> 23</td><td> 31</td><td> 18</td><td> 30</td></tr>\n",
       "\t<tr><th scope=row>3</th><td>GL456233.1_38782_39154  </td><td>GL456233.1</td><td> 38782</td><td> 39154</td><td>+</td><td> 373</td><td> 32</td><td> 33</td><td> 16</td><td> 19</td><td> 6</td><td> 19</td><td> 16</td><td> 30</td><td> 20</td></tr>\n",
       "\t<tr><th scope=row>4</th><td>GL456233.1_159559_160218</td><td>GL456233.1</td><td>159559</td><td>160218</td><td>+</td><td> 660</td><td> 48</td><td> 44</td><td> 30</td><td> 27</td><td>17</td><td> 36</td><td> 42</td><td> 50</td><td> 26</td></tr>\n",
       "\t<tr><th scope=row>5</th><td>GL456239.1_12211_13278  </td><td>GL456239.1</td><td> 12211</td><td> 13278</td><td>+</td><td>1068</td><td> 37</td><td> 37</td><td> 21</td><td> 43</td><td>21</td><td> 61</td><td> 51</td><td> 64</td><td> 57</td></tr>\n",
       "\t<tr><th scope=row>6</th><td>GL456239.1_22604_22884  </td><td>GL456239.1</td><td> 22604</td><td> 22884</td><td>+</td><td> 281</td><td>  7</td><td> 11</td><td> 10</td><td> 26</td><td>10</td><td> 37</td><td> 33</td><td> 26</td><td> 29</td></tr>\n",
       "</tbody>\n",
       "</table>\n"
      ],
      "text/latex": [
       "A data.frame: 6 × 15\n",
       "\\begin{tabular}{r|lllllllllllllll}\n",
       "  & Geneid & Chr & Start & End & Strand & Length & KS157\\_CREneg\\_g5.rep1 & KS157\\_CREneg\\_g5.rep2 & KS157\\_CREneg\\_g5.rep3 & KS162\\_CrePos\\_g5.rep1 & KS162\\_CrePos\\_g5.rep2 & KS162\\_CrePos\\_g5.rep3 & KS162\\_CrePos\\_NTC.rep1 & KS162\\_CrePos\\_NTC.rep2 & KS162\\_CrePos\\_NTC.rep3\\\\\n",
       "  & <fct> & <fct> & <int> & <int> & <fct> & <int> & <int> & <int> & <int> & <int> & <int> & <int> & <int> & <int> & <int>\\\\\n",
       "\\hline\n",
       "\t1 & GL456216.1\\_15807\\_17235   & GL456216.1 &  15807 &  17235 & + & 1429 & 529 & 548 & 339 & 132 & 84 & 175 & 224 & 260 & 203\\\\\n",
       "\t2 & GL456216.1\\_49148\\_49467   & GL456216.1 &  49148 &  49467 & + &  320 &  20 &  14 &  10 &  11 &  5 &  23 &  31 &  18 &  30\\\\\n",
       "\t3 & GL456233.1\\_38782\\_39154   & GL456233.1 &  38782 &  39154 & + &  373 &  32 &  33 &  16 &  19 &  6 &  19 &  16 &  30 &  20\\\\\n",
       "\t4 & GL456233.1\\_159559\\_160218 & GL456233.1 & 159559 & 160218 & + &  660 &  48 &  44 &  30 &  27 & 17 &  36 &  42 &  50 &  26\\\\\n",
       "\t5 & GL456239.1\\_12211\\_13278   & GL456239.1 &  12211 &  13278 & + & 1068 &  37 &  37 &  21 &  43 & 21 &  61 &  51 &  64 &  57\\\\\n",
       "\t6 & GL456239.1\\_22604\\_22884   & GL456239.1 &  22604 &  22884 & + &  281 &   7 &  11 &  10 &  26 & 10 &  37 &  33 &  26 &  29\\\\\n",
       "\\end{tabular}\n"
      ],
      "text/markdown": [
       "\n",
       "A data.frame: 6 × 15\n",
       "\n",
       "| <!--/--> | Geneid &lt;fct&gt; | Chr &lt;fct&gt; | Start &lt;int&gt; | End &lt;int&gt; | Strand &lt;fct&gt; | Length &lt;int&gt; | KS157_CREneg_g5.rep1 &lt;int&gt; | KS157_CREneg_g5.rep2 &lt;int&gt; | KS157_CREneg_g5.rep3 &lt;int&gt; | KS162_CrePos_g5.rep1 &lt;int&gt; | KS162_CrePos_g5.rep2 &lt;int&gt; | KS162_CrePos_g5.rep3 &lt;int&gt; | KS162_CrePos_NTC.rep1 &lt;int&gt; | KS162_CrePos_NTC.rep2 &lt;int&gt; | KS162_CrePos_NTC.rep3 &lt;int&gt; |\n",
       "|---|---|---|---|---|---|---|---|---|---|---|---|---|---|---|---|\n",
       "| 1 | GL456216.1_15807_17235   | GL456216.1 |  15807 |  17235 | + | 1429 | 529 | 548 | 339 | 132 | 84 | 175 | 224 | 260 | 203 |\n",
       "| 2 | GL456216.1_49148_49467   | GL456216.1 |  49148 |  49467 | + |  320 |  20 |  14 |  10 |  11 |  5 |  23 |  31 |  18 |  30 |\n",
       "| 3 | GL456233.1_38782_39154   | GL456233.1 |  38782 |  39154 | + |  373 |  32 |  33 |  16 |  19 |  6 |  19 |  16 |  30 |  20 |\n",
       "| 4 | GL456233.1_159559_160218 | GL456233.1 | 159559 | 160218 | + |  660 |  48 |  44 |  30 |  27 | 17 |  36 |  42 |  50 |  26 |\n",
       "| 5 | GL456239.1_12211_13278   | GL456239.1 |  12211 |  13278 | + | 1068 |  37 |  37 |  21 |  43 | 21 |  61 |  51 |  64 |  57 |\n",
       "| 6 | GL456239.1_22604_22884   | GL456239.1 |  22604 |  22884 | + |  281 |   7 |  11 |  10 |  26 | 10 |  37 |  33 |  26 |  29 |\n",
       "\n"
      ],
      "text/plain": [
       "  Geneid                   Chr        Start  End    Strand Length\n",
       "1 GL456216.1_15807_17235   GL456216.1  15807  17235 +      1429  \n",
       "2 GL456216.1_49148_49467   GL456216.1  49148  49467 +       320  \n",
       "3 GL456233.1_38782_39154   GL456233.1  38782  39154 +       373  \n",
       "4 GL456233.1_159559_160218 GL456233.1 159559 160218 +       660  \n",
       "5 GL456239.1_12211_13278   GL456239.1  12211  13278 +      1068  \n",
       "6 GL456239.1_22604_22884   GL456239.1  22604  22884 +       281  \n",
       "  KS157_CREneg_g5.rep1 KS157_CREneg_g5.rep2 KS157_CREneg_g5.rep3\n",
       "1 529                  548                  339                 \n",
       "2  20                   14                   10                 \n",
       "3  32                   33                   16                 \n",
       "4  48                   44                   30                 \n",
       "5  37                   37                   21                 \n",
       "6   7                   11                   10                 \n",
       "  KS162_CrePos_g5.rep1 KS162_CrePos_g5.rep2 KS162_CrePos_g5.rep3\n",
       "1 132                  84                   175                 \n",
       "2  11                   5                    23                 \n",
       "3  19                   6                    19                 \n",
       "4  27                  17                    36                 \n",
       "5  43                  21                    61                 \n",
       "6  26                  10                    37                 \n",
       "  KS162_CrePos_NTC.rep1 KS162_CrePos_NTC.rep2 KS162_CrePos_NTC.rep3\n",
       "1 224                   260                   203                  \n",
       "2  31                    18                    30                  \n",
       "3  16                    30                    20                  \n",
       "4  42                    50                    26                  \n",
       "5  51                    64                    57                  \n",
       "6  33                    26                    29                  "
      ]
     },
     "metadata": {},
     "output_type": "display_data"
    }
   ],
   "source": [
    "##Load featureCounts File\n",
    "colnm <- c(\"Geneid\",\"Chr\",\"Start\",\"End\",\"Strand\",\"Length\",\n",
    "\"KS157_CREneg_g5.rep1\",\n",
    "\"KS157_CREneg_g5.rep2\",\n",
    "\"KS157_CREneg_g5.rep3\",\n",
    "\"KS162_CrePos_g5.rep1\",\n",
    "\"KS162_CrePos_g5.rep2\",\n",
    "\"KS162_CrePos_g5.rep3\",\n",
    "\"KS162_CrePos_NTC.rep1\",\n",
    "\"KS162_CrePos_NTC.rep2\",\n",
    "\"KS162_CrePos_NTC.rep3\"\n",
    "           )\n",
    "\n",
    "bpFeatureCounts <- read.table(\"/gpfs/fs1/data/reddylab/Keith/collab/200924_Gemberling/analysis/201209_Gemberling2012_K27acChIP.broadPeakFiltq3.featureCounts.txt\", \n",
    "                              header=TRUE, \n",
    "                              col.names = colnm)\n",
    "\n",
    "head(bpFeatureCounts)"
   ]
  },
  {
   "cell_type": "code",
   "execution_count": null,
   "metadata": {
    "collapsed": true
   },
   "outputs": [],
   "source": [
    "#Filter out nonstandard and mitochondrial chromosomes\n",
    "AllChrs <- unique(bpFeatureCounts[,2])\n",
    "inxStd <- grep(x = unique(bpFeatureCounts[,2]), pattern=\"chr[0-9, X, Y]\")\n",
    "inxSelect <- bpFeatureCounts[,2] %in% AllChrs[inxStd] \n",
    "bpFeatureCounts <- bpFeatureCounts[inxSelect,]\n",
    "\n",
    "#get coordinates for Foxp3 guide targeted peak\n",
    "inxFox <- grep(\"chrX_7578787_7580637\", bpFeatureCounts[,1])\n",
    "bpFeatureCounts[inxFox,]"
   ]
  },
  {
   "cell_type": "markdown",
   "metadata": {},
   "source": [
    "#### Deseq2 comparing dCas9-p300::Cre+ treated with targeting Foxp3 or non targeting gRNA"
   ]
  },
  {
   "cell_type": "code",
   "execution_count": 3,
   "metadata": {},
   "outputs": [
    {
     "data": {
      "text/html": [
       "<table>\n",
       "<caption>A matrix: 9 × 4 of type chr</caption>\n",
       "<thead>\n",
       "\t<tr><th scope=col>sampleID</th><th scope=col>genoType</th><th scope=col>guideType</th><th scope=col>treatmentType</th></tr>\n",
       "</thead>\n",
       "<tbody>\n",
       "\t<tr><td>KS157_CREneg_g5.rep1 </td><td>CREneg</td><td>g5 </td><td>control</td></tr>\n",
       "\t<tr><td>KS157_CREneg_g5.rep2 </td><td>CREneg</td><td>g5 </td><td>control</td></tr>\n",
       "\t<tr><td>KS157_CREneg_g5.rep3 </td><td>CREneg</td><td>g5 </td><td>control</td></tr>\n",
       "\t<tr><td>KS162_CrePos_g5.rep1 </td><td>CREpos</td><td>g5 </td><td>treat  </td></tr>\n",
       "\t<tr><td>KS162_CrePos_g5.rep2 </td><td>CREpos</td><td>g5 </td><td>treat  </td></tr>\n",
       "\t<tr><td>KS162_CrePos_g5.rep3 </td><td>CREpos</td><td>g5 </td><td>treat  </td></tr>\n",
       "\t<tr><td>KS162_CrePos_NTC.rep1</td><td>CREpos</td><td>NTC</td><td>control</td></tr>\n",
       "\t<tr><td>KS162_CrePos_NTC.rep2</td><td>CREpos</td><td>NTC</td><td>control</td></tr>\n",
       "\t<tr><td>KS162_CrePos_NTC.rep3</td><td>CREpos</td><td>NTC</td><td>control</td></tr>\n",
       "</tbody>\n",
       "</table>\n"
      ],
      "text/latex": [
       "A matrix: 9 × 4 of type chr\n",
       "\\begin{tabular}{llll}\n",
       " sampleID & genoType & guideType & treatmentType\\\\\n",
       "\\hline\n",
       "\t KS157\\_CREneg\\_g5.rep1  & CREneg & g5  & control\\\\\n",
       "\t KS157\\_CREneg\\_g5.rep2  & CREneg & g5  & control\\\\\n",
       "\t KS157\\_CREneg\\_g5.rep3  & CREneg & g5  & control\\\\\n",
       "\t KS162\\_CrePos\\_g5.rep1  & CREpos & g5  & treat  \\\\\n",
       "\t KS162\\_CrePos\\_g5.rep2  & CREpos & g5  & treat  \\\\\n",
       "\t KS162\\_CrePos\\_g5.rep3  & CREpos & g5  & treat  \\\\\n",
       "\t KS162\\_CrePos\\_NTC.rep1 & CREpos & NTC & control\\\\\n",
       "\t KS162\\_CrePos\\_NTC.rep2 & CREpos & NTC & control\\\\\n",
       "\t KS162\\_CrePos\\_NTC.rep3 & CREpos & NTC & control\\\\\n",
       "\\end{tabular}\n"
      ],
      "text/markdown": [
       "\n",
       "A matrix: 9 × 4 of type chr\n",
       "\n",
       "| sampleID | genoType | guideType | treatmentType |\n",
       "|---|---|---|---|\n",
       "| KS157_CREneg_g5.rep1  | CREneg | g5  | control |\n",
       "| KS157_CREneg_g5.rep2  | CREneg | g5  | control |\n",
       "| KS157_CREneg_g5.rep3  | CREneg | g5  | control |\n",
       "| KS162_CrePos_g5.rep1  | CREpos | g5  | treat   |\n",
       "| KS162_CrePos_g5.rep2  | CREpos | g5  | treat   |\n",
       "| KS162_CrePos_g5.rep3  | CREpos | g5  | treat   |\n",
       "| KS162_CrePos_NTC.rep1 | CREpos | NTC | control |\n",
       "| KS162_CrePos_NTC.rep2 | CREpos | NTC | control |\n",
       "| KS162_CrePos_NTC.rep3 | CREpos | NTC | control |\n",
       "\n"
      ],
      "text/plain": [
       "      sampleID              genoType guideType treatmentType\n",
       " [1,] KS157_CREneg_g5.rep1  CREneg   g5        control      \n",
       " [2,] KS157_CREneg_g5.rep2  CREneg   g5        control      \n",
       " [3,] KS157_CREneg_g5.rep3  CREneg   g5        control      \n",
       " [4,] KS162_CrePos_g5.rep1  CREpos   g5        treat        \n",
       " [5,] KS162_CrePos_g5.rep2  CREpos   g5        treat        \n",
       " [6,] KS162_CrePos_g5.rep3  CREpos   g5        treat        \n",
       " [7,] KS162_CrePos_NTC.rep1 CREpos   NTC       control      \n",
       " [8,] KS162_CrePos_NTC.rep2 CREpos   NTC       control      \n",
       " [9,] KS162_CrePos_NTC.rep3 CREpos   NTC       control      "
      ]
     },
     "metadata": {},
     "output_type": "display_data"
    }
   ],
   "source": [
    "#Set up colData\n",
    "cts <- bpFeatureCounts[,-c(1:6)]\n",
    "colData <- as.matrix(colnames(cts))\n",
    "genoType <- as.matrix(c(rep(\"CREneg\",3),rep(\"CREpos\", 6)))\n",
    "guideType <- as.matrix(c(rep(\"g5\", 6), rep(\"NTC\", 3)))\n",
    "treatmentType <- as.matrix(c(rep(\"control\",3),rep(\"treat\", 3), rep(\"control\",3)))\n",
    "\n",
    "colData <- cbind(colData, genoType, guideType, treatmentType)\n",
    "colnames(colData) <- c(\"sampleID\", \"genoType\", \"guideType\", \"treatmentType\")\n",
    "colData"
   ]
  },
  {
   "cell_type": "code",
   "execution_count": null,
   "metadata": {
    "collapsed": true
   },
   "outputs": [],
   "source": [
    "require(DESeq2)\n",
    "dds <- DESeqDataSetFromMatrix(countData=cts[,-c(1:3)],\n",
    "                             colData=colData[-c(1:3),],\n",
    "                             design=~guideType)\n",
    "\n",
    "\n",
    "dds$guideType <- relevel(dds$guideType, \"NTC\")\n",
    "resultsNames(dds)\n",
    "\n",
    "dds <- DESeq(dds)\n",
    "\n",
    "res <- results(dds, independentFiltering=FALSE)\n",
    "summary(res, alpha = 0.01)\n",
    "\n",
    "#Write the results object; unfiltered\n",
    "setwd(\"/gpfs/fs1/data/reddylab/Keith/collab/200924_Gemberling/analysis\")\n",
    "out <- cbind(bpFeatureCounts[,1:6], res)\n",
    "# write.table(x = out, file=\"201211_Gemberling2020_K27acChIP-seq_DESeq2_CREpos_G5_v_NTC_allpeaks.tsv\", quote = FALSE, row.names = FALSE, sep=\"\\t\")"
   ]
  },
  {
   "cell_type": "code",
   "execution_count": 5,
   "metadata": {},
   "outputs": [
    {
     "ename": "ERROR",
     "evalue": "Error in eval(expr, envir, enclos): object 'res' not found\n",
     "output_type": "error",
     "traceback": [
      "Error in eval(expr, envir, enclos): object 'res' not found\nTraceback:\n"
     ]
    }
   ],
   "source": [
    "#Write table of filtered hits padj≤0.01\n",
    "inxSig <- res$padj <= 0.01\n",
    "inxFC <- abs(res$log2FoldChange) >= 0\n",
    "\n",
    "hits <- res[inxFC & inxSig,]\n",
    "hit.peaks <- bpFeatureCounts[inxFC & inxSig,1:6]\n",
    "o <- order(hits$log2FoldChange, decreasing = TRUE)\n",
    "hitsBed <- cbind(hit.peaks[o,],hits[o,])\n",
    "hitsBed\n",
    "# write.table(x = hitsBed, file=\"201209_Gemberling2020_K27acChIP-seq_DESeq2_hits_q2.tsv\", quote = FALSE, row.names = FALSE, sep=\"\\t\")"
   ]
  },
  {
   "cell_type": "markdown",
   "metadata": {},
   "source": [
    "#### Plot MA for Supplementary Figure 5B"
   ]
  },
  {
   "cell_type": "code",
   "execution_count": 4,
   "metadata": {
    "scrolled": true
   },
   "outputs": [
    {
     "ename": "ERROR",
     "evalue": "Error in plotMA(res, ylim = c(-4, 4), las = 1, alpha = 0.01, cex = 0.75): could not find function \"plotMA\"\n",
     "output_type": "error",
     "traceback": [
      "Error in plotMA(res, ylim = c(-4, 4), las = 1, alpha = 0.01, cex = 0.75): could not find function \"plotMA\"\nTraceback:\n"
     ]
    }
   ],
   "source": [
    "#201209 - PlotMA from q3 cutoff, all 3 replicates, standard peaks\n",
    "# pdf(file = \"./plots/201010_Gemberling2020_G5vNTC_CRE+_q3_MAplot.pdf\", useDingbats=FALSE)\n",
    "plotMA(res, ylim=c(-4,4), las=1, alpha=0.01, cex=0.75)\n",
    "text(x = res[inxFox,1], y=res[inxFox,2]+0.25, \"Foxp3 gRNA-5\")\n",
    "points(x=res[inxFox,1], y=res[inxFox,2], cex=1.2, col=\"orange\")\n",
    "# dev.off()"
   ]
  },
  {
   "cell_type": "markdown",
   "metadata": {},
   "source": [
    "#### Deseq2 comparison for Foxp3 gRNA treated Cre+ vs Cre- H3K27ac ChIP-seq"
   ]
  },
  {
   "cell_type": "code",
   "execution_count": null,
   "metadata": {
    "collapsed": true
   },
   "outputs": [],
   "source": [
    "require(DESeq2)\n",
    "dds <- DESeqDataSetFromMatrix(countData=cts[,-c(7:9)],\n",
    "                             colData=colData[-c(7:9),],\n",
    "                             design=~genoType)\n",
    "\n",
    "\n",
    "dds$guideType <- relevel(dds$genoType, \"CREneg\")\n",
    "resultsNames(dds)\n",
    "\n",
    "dds <- DESeq(dds)\n",
    "\n",
    "res <- results(dds, independentFiltering=FALSE)\n",
    "summary(res, alpha = 0.01)"
   ]
  },
  {
   "cell_type": "code",
   "execution_count": null,
   "metadata": {
    "collapsed": true
   },
   "outputs": [],
   "source": []
  },
  {
   "cell_type": "markdown",
   "metadata": {},
   "source": [
    "#### Plot MA for Supplementary Figure 5E"
   ]
  },
  {
   "cell_type": "code",
   "execution_count": null,
   "metadata": {
    "collapsed": true
   },
   "outputs": [],
   "source": [
    "#201209 - PlotMA from q3 cutoff, all 3 replicates, standard peaks\n",
    "\n",
    "#get coordinates for Foxp3 guide targeted peak\n",
    "inxFox <- grep(\"chrX_7578787_7580637\", bpFeatureCounts[,1])\n",
    "bpFeatureCounts[inxFox,]\n",
    "\n",
    "# pdf(file = \"./plots/201010_Gemberling2020_CREposVCREneg_g5_q3_MAplot.pdf\", useDingbats=FALSE)\n",
    "plotMA(res, ylim=c(-4,4), las=1, alpha=0.01, cex=0.75)\n",
    "text(x = res[inxFox,1], y=res[inxFox,2]+0.25, \"Foxp3 gRNA-5\")\n",
    "points(x=res[inxFox,1], y=res[inxFox,2], cex=1.2, col=\"orange\")\n",
    "# dev.off()"
   ]
  },
  {
   "cell_type": "code",
   "execution_count": null,
   "metadata": {
    "collapsed": true
   },
   "outputs": [],
   "source": [
    "#Filter hits on q2 but no effect size\n",
    "inxSig <- which(res$padj <= 0.01)\n",
    "# inxFC <- abs(res$log2FoldChange) >= 0\n",
    "\n",
    "hits <- res[inxSig,]\n",
    "hit.peaks <- bpFeatureCounts[inxSig,1:6]\n",
    "o <- order(hits$log2FoldChange, decreasing = TRUE)\n",
    "hitsBed <- cbind(hit.peaks[o,],hits[o,])\n",
    "hitsBed\n",
    "write.table(x = hitsBed, file=\"201209_Gemberling2020_K27acChIP-seq_DESeq2_hits_CREpos_v_CREneg_q2.tsv\", quote = FALSE, row.names = FALSE, sep=\"\\t\")\n",
    "\n"
   ]
  },
  {
   "cell_type": "markdown",
   "metadata": {},
   "source": [
    "### Figure 4G\n",
    "#### Make CPM bar plots at FoxP3 locus"
   ]
  },
  {
   "cell_type": "code",
   "execution_count": null,
   "metadata": {
    "collapsed": true
   },
   "outputs": [],
   "source": [
    "#Get counts from featureCounts table\n",
    "inxFox <- grep(\"chrX_7578787_7580637\", bpFeatureCounts[,1])\n",
    "\n",
    "cpms <- cpm(cts)\n",
    "fox.cpms <- as.numeric(cpms[inxFox,,drop=FALSE])\n",
    "fox.table <- cbind(colData, cpm=melt(fox.cpms)$value) #melt table for ggplot\n",
    "\n",
    "fox.df <- as.data.frame(fox.table, stringsAsFactors=FALSE)\n",
    "fox.df$cpm <- as.numeric(fox.df$cpm)\n",
    "interact <- interaction(fox.df$guideType, fox.df$genoType, drop = TRUE)\n",
    "level_order <- c(\"g5.CREneg\", \"NTC.CREpos\", \"g5.CREpos\")\n",
    "interact <- factor(interact, levels = level_order)\n",
    "fox.df$interact <- interact\n",
    "\n",
    "fox.df\n",
    "\n",
    "#Summarize means\n",
    "(df_cpm_means <- fox.df %>%\n",
    "  group_by(interact) %>%   # the grouping variable\n",
    "  summarise(mean_cpm = mean(cpm), sd = sd(cpm)))fox.df <- as.data.frame(fox.table)\n"
   ]
  },
  {
   "cell_type": "code",
   "execution_count": 6,
   "metadata": {},
   "outputs": [
    {
     "ename": "ERROR",
     "evalue": "Error in ggplot(fox.df, aes(x = interact, y = cpm, group = interact)): could not find function \"ggplot\"\n",
     "output_type": "error",
     "traceback": [
      "Error in ggplot(fox.df, aes(x = interact, y = cpm, group = interact)): could not find function \"ggplot\"\nTraceback:\n"
     ]
    }
   ],
   "source": [
    "#Plot\n",
    "set.seed(31339)\n",
    "g <- ggplot(fox.df, aes(x=interact, y=cpm, group=interact))\n",
    "g2 <-  g + geom_boxplot(data=fox.df, notch=FALSE, width=0.5) +\n",
    "    stat_boxplot(geom = \"errorbar\", width=0.25) +\n",
    "    geom_jitter(aes(shape=interact), size=3, width=0.075) +\n",
    "    scale_x_discrete(expand=c(0.8,0)) +\n",
    "    scale_y_continuous(expand=c(0.3,0), breaks=c(0, 25, 50, 75, 100, 125), limits=c(0,125)) +\n",
    "    scale_shape_manual(values=c(16, 15, 17)) +\n",
    "\tlabs(y=\"CPM\") + \n",
    "\ttheme(panel.grid.major = element_blank(), panel.grid.minor = element_blank(),\n",
    "panel.background = element_blank(), axis.line = element_line(colour = \"black\"))\n",
    "\n",
    "g2"
   ]
  },
  {
   "cell_type": "markdown",
   "metadata": {},
   "source": [
    "# Analysis of flow cytometry data from T cells treated with single gRNA targeting the Foxp3 promoter \n",
    "### Supplemental Figure2D-E"
   ]
  },
  {
   "cell_type": "code",
   "execution_count": null,
   "metadata": {
    "collapsed": true
   },
   "outputs": [],
   "source": [
    "library(ggplot2)\n",
    "library(gridExtra)\n",
    "library(gtools)\n",
    "library(dplyr)\n",
    "flowDatFile <- \"~/Documents/Computing/Collaboration/210420_Gemberling_NMETH/201212_KS149_AllgRNAFlow_d7.txt\"\n",
    "\n",
    "dat <- read.table(file=flowDatFile, header=TRUE, sep=\"\\t\")\n",
    "\n",
    "level_order <- mixedsort(levels(dat[,4]), decreasing=FALSE)\n",
    "\n",
    " #Plot FoxP3\n",
    "\n",
    "(df_means <- dat %>%\n",
    "  group_by(guideType, genoType) %>%   # the grouping variable\n",
    "  summarise(mean_freq = mean(Foxp3.freq), sd = sd(Foxp3.freq)))\n",
    "\n",
    "\n",
    "# pdf(file=\"./Plots/201212_Gemberling2020_SupplementaryFigure_singlegRNAScreen_barPlot.pdf\", useDingbats=FALSE)\n",
    "g <- ggplot(df_means, aes(x=factor(guideType, level = level_order), y=mean_freq))\n",
    "g2 <- g + geom_col(data=df_means, fill=\"NA\", color=\"black\") +\n",
    "\tscale_y_continuous(limits=c(0,100)) +\n",
    "\tlabs(title = \"% of FoxP3+ Lymphocytes after 7d\", x=\"gRNA\", y=\"%FOXP3-eGFP+ Cells\") +\n",
    "\ttheme(axis.text.x=element_text(angle=90, hjust=0.95)) + \n",
    "\tgeom_point(data=dat, aes(x=factor(guideType, level = level_order), y=Foxp3.freq)) +\n",
    "\ttheme(panel.grid.major = element_blank(), panel.grid.minor = element_blank(),\n",
    "panel.background = element_blank(), axis.line = element_line(colour = \"black\")) +\n",
    "\t# geom_errorbar(aes(ymin=mean_freq-sd, ymax=mean_freq+sd, width=0.2)) +\n",
    "\tfacet_grid(genoType ~ .)\n",
    "g2\n",
    "# dev.off()\n"
   ]
  },
  {
   "cell_type": "markdown",
   "metadata": {},
   "source": [
    "### Statistical testing for Supplementary Figure 2D-E\n"
   ]
  },
  {
   "cell_type": "code",
   "execution_count": null,
   "metadata": {
    "collapsed": true
   },
   "outputs": [],
   "source": [
    "library(multcomp)\n",
    "library(agricolae)\n",
    "\n",
    "flowDatFile <- \"~/Documents/Computing/Collaboration/210420_Gemberling_NMETH/201212_KS149_AllgRNAFlow_d7.txt\"\n",
    "dat <- read.table(file=flowDatFile, header=TRUE, sep=\"\\t\")\n",
    "\n",
    "\n",
    "#Setup data\n",
    "dat_grp <- dat %>% group_by(guideType, genoType)\n",
    "\n",
    "rmvTreg <- dat_grp$guideType %in% \"Treg\" \n",
    "rmvTh0 <- dat_grp$guideType %in% \"Th0\" \n",
    "inxKRAB <- dat_grp$genoType %in% \"KRAB\"\n",
    "inxp300 <- dat_grp$genoType %in% \"p300\"\n",
    "\n",
    "\n",
    "#Remove Th0 and Treg positive controls for the ANOVA and split into KRAB and p300\n",
    "dat_krab <- dat_grp[inxKRAB & !rmvTh0 & !rmvTreg,]\n",
    "dat_p300 <- dat_grp[inxp300 & !rmvTh0 & !rmvTreg,]\n",
    "\n",
    "levels(dat_krab$guideType)\n",
    "\n"
   ]
  },
  {
   "cell_type": "code",
   "execution_count": null,
   "metadata": {
    "collapsed": true
   },
   "outputs": [],
   "source": [
    "#Run ANOVA for KRAB\n",
    "\n",
    "#Change reference to NTC\n",
    "dat_krab$guideType <- relevel(dat_krab$guideType, ref = \"NTC\")\n",
    "model2 <- aov(Foxp3.freq ~ guideType, data=dat_krab)\n",
    "summary(model2)\n",
    "post_test <- glht(model2, linfct=mcp(guideType = \"Dunnett\"))\n",
    "summary(post_test)"
   ]
  },
  {
   "cell_type": "code",
   "execution_count": null,
   "metadata": {
    "collapsed": true
   },
   "outputs": [],
   "source": [
    "#Run ANOVA for p300 \n",
    "\n",
    "#Change reference to NTC\n",
    "dat_p300$guideType <- relevel(dat_p300$guideType, ref = \"NTC\")\n",
    "model1 <- aov(Foxp3.freq ~ guideType, data=dat_p300)\n",
    "summary(model1)\n",
    "post_test <- glht(model1, linfct=mcp(guideType = \"Dunnett\"))\n",
    "summary(post_test)"
   ]
  }
 ],
 "metadata": {
  "kernelspec": {
   "display_name": "R 3.6 keith_py3",
   "language": "R",
   "name": "ir36_keithpy3"
  },
  "language_info": {
   "codemirror_mode": "r",
   "file_extension": ".r",
   "mimetype": "text/x-r-source",
   "name": "R",
   "pygments_lexer": "r",
   "version": "3.6.1"
  }
 },
 "nbformat": 4,
 "nbformat_minor": 2
}
