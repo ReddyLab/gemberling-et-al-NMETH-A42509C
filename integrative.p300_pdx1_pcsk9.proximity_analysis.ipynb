{
 "cells": [
  {
   "cell_type": "markdown",
   "metadata": {},
   "source": [
    "In an attempt to shed some light over the few extra set of acetylated sites (beyond Foxp3) found in the Cre+/g5 vs Cre+/NTC samples, we had the following questions:\n",
    "1. What is the genomic annotation distribution of those acetylated sites?\n",
    "2. On average, are genes differentially expressed around those peaks having sig. diff. binding signal? How about those that do not show sig. diff. binding signal?\n",
    "\n",
    "Additionally, how do these results compare with a similar analysis focusing on the effect of Cre (g5 and Cre+ v Cre-)?  "
   ]
  },
  {
   "cell_type": "markdown",
   "metadata": {},
   "source": [
    "First, let's annotated the closest gene to each K27ac peak:"
   ]
  },
  {
   "cell_type": "code",
   "execution_count": 6,
   "metadata": {},
   "outputs": [
    {
     "name": "stderr",
     "output_type": "stream",
     "text": [
      "/data/reddylab/software/miniconda3/envs/alex_py3/lib/python3.7/site-packages/statsmodels/tools/_testing.py:19: FutureWarning: pandas.util.testing is deprecated. Use the functions in the public API at pandas.testing instead.\n",
      "  import pandas.util.testing as tm\n"
     ]
    }
   ],
   "source": [
    "%%bash\n",
    "python /data/reddylab/Alex/reddylab_utils/scripts/combined_scatter_plot_of_deseq2_results.py \\\n",
    "    -1 /data/reddylab/Alex/collab/20190701_Matt/results/chip_seq/differential_testing/deseq2/flags/mmLiver_p300.flag.targeted_vs_mmLiver_p300.flag.scram.unshrunk.with_closest_gene.txt \\\n",
    "    -2 /data/reddylab/Alex/collab/20190701_Matt/results/rna_seq/differntial_testing//mm10Liver.rnaseq.PDX1_vs_mm10Liver.rnaseq.non_targeting.unshrunk.with_genes.txt \\\n",
    "    --suffixes \"_Pdx1_chipseq\" \"_rnaseq\" \\\n",
    "    --padj-cols \"padj_Pdx1_chipseq\" \"padj_rnaseq\" \\\n",
    "    --log2fc-cols \"log2FoldChange_Pdx1_chipseq\" \"log2FoldChange_rnaseq\" \\\n",
    "    --legend-group-labels \"DA\" \"DEG\" \\\n",
    "    --axes-labels \"Pdx1_chipseq ChIP-seq log2fc\" \"RNA-seq log2fc\" \\\n",
    "    --suptitle \"Pdx1 target gRNA v control gRNA\" \\\n",
    "    --how \"inner\" \\\n",
    "    --genes-to-highlight \"Pdx1\" \\\n",
    "    --gene-name-col \"GeneName\" \\\n",
    "    --output-format png pdf \\\n",
    "    --fdr-thres 0.05 \\\n",
    "    --input-file1-join-col \"genes\" \\\n",
    "    --input-file2-join-col \"GeneName\" \\\n",
    "    --colors 'grey' '#008695' '#E68310' '#E73F74'  \\\n",
    "    --remove-pseudogenes \\\n",
    "    -o /data/reddylab/Alex/collab/20190701_Matt/results/integrative/mmLiver_p300.Pdx1_chipseq.targeted_vs_control\n",
    "#    \n"
   ]
  },
  {
   "cell_type": "code",
   "execution_count": null,
   "metadata": {},
   "outputs": [],
   "source": [
    "# Pcsk9 flag (technically not a flag, but whatever)\n",
    "/data/reddylab/Alex/collab/20190701_Matt/results/rna_seq/differntial_testing/mm10.rnaseq.PCSK9_gRNA_vs_mm10.rnaseq.Control_gRNA.unshrunk.with_genes.txt\n",
    "/data/reddylab/Alex/collab/20190701_Matt/results/chip_seq/differential_testing/deseq2/flags/mmLiver_KRAB.flag.targeted_vs_mmLiver_KRAB.flag.scram.with_closest_gene.txt "
   ]
  },
  {
   "cell_type": "code",
   "execution_count": 7,
   "metadata": {},
   "outputs": [
    {
     "name": "stderr",
     "output_type": "stream",
     "text": [
      "/data/reddylab/software/miniconda3/envs/alex_py3/lib/python3.7/site-packages/statsmodels/tools/_testing.py:19: FutureWarning: pandas.util.testing is deprecated. Use the functions in the public API at pandas.testing instead.\n",
      "  import pandas.util.testing as tm\n"
     ]
    }
   ],
   "source": [
    "%%bash\n",
    "python /data/reddylab/Alex/reddylab_utils/scripts/combined_scatter_plot_of_deseq2_results.py \\\n",
    "    -1 /data/reddylab/Alex/collab/20190701_Matt/results/chip_seq/differential_testing/deseq2/flags/mmLiver_KRAB.flag.targeted_vs_mmLiver_KRAB.flag.scram.unshrunk.with_closest_gene.txt \\\n",
    "    -2 /data/reddylab/Alex/collab/20190701_Matt/results/rna_seq/differntial_testing/mm10.rnaseq.PCSK9_gRNA_vs_mm10.rnaseq.Control_gRNA.unshrunk.with_genes.txt \\\n",
    "    --suffixes \"_Pcsk9_chipseq\" \"_rnaseq\" \\\n",
    "    --padj-cols \"padj_Pcsk9_chipseq\" \"padj_rnaseq\" \\\n",
    "    --log2fc-cols \"log2FoldChange_Pcsk9_chipseq\" \"log2FoldChange_rnaseq\" \\\n",
    "    --legend-group-labels \"DA\" \"DEG\" \\\n",
    "    --axes-labels \"Pcsk9_chipseq ChIP-seq log2fc\" \"RNA-seq log2fc\" \\\n",
    "    --suptitle \"Pcsk9 target gRNA v control gRNA\" \\\n",
    "    --how \"inner\" \\\n",
    "    --genes-to-highlight \"Pcsk9\" \\\n",
    "    --gene-name-col \"GeneName\" \\\n",
    "    --output-format png pdf \\\n",
    "    --fdr-thres 0.05 \\\n",
    "    --input-file1-join-col \"genes\" \\\n",
    "    --input-file2-join-col \"GeneName\" \\\n",
    "    --colors 'grey' '#008695' '#E68310' '#E73F74'  \\\n",
    "    --remove-pseudogenes \\\n",
    "    -o /data/reddylab/Alex/collab/20190701_Matt/results/integrative/mmLiver_KRAB.Pcsk9_chipseq.targeted_vs_control\n",
    "#    \n"
   ]
  },
  {
   "cell_type": "code",
   "execution_count": null,
   "metadata": {},
   "outputs": [],
   "source": [
    "# p300 (Pdx1) K27ac\n",
    "/data/reddylab/Alex/collab/20190701_Matt/results/rna_seq/differntial_testing/mm10Liver.rnaseq.PDX1_vs_mm10Liver.rnaseq.non_targeting.unshrunk.with_genes.txt\n",
    "/data/reddylab/Alex/collab/20190701_Matt/results/chip_seq/differential_testing/deseq2/mmLiver_p300.K27ac.targeted_vs_mmLiver_p300.K27ac.scram.with_closest_gene.txt\n"
   ]
  },
  {
   "cell_type": "code",
   "execution_count": 1,
   "metadata": {},
   "outputs": [
    {
     "name": "stdout",
     "output_type": "stream",
     "text": [
      "Process is terminated.\n"
     ]
    }
   ],
   "source": [
    "%%bash\n",
    "python /data/reddylab/Alex/reddylab_utils/scripts/combined_scatter_plot_of_deseq2_results.py \\\n",
    "    -1 /data/reddylab/Alex/collab/20190701_Matt/results/chip_seq/differential_testing/deseq2/mmLiver_p300.K27ac.targeted_vs_mmLiver_p300.K27ac.scram.unshrunk.with_closest_gene.txt \\\n",
    "    -2 /data/reddylab/Alex/collab/20190701_Matt/results/rna_seq/differntial_testing/mm10Liver.rnaseq.PDX1_vs_mm10Liver.rnaseq.non_targeting.unshrunk.with_genes.txt \\\n",
    "    --suffixes \"_K27ac\" \"_rnaseq\" \\\n",
    "    --padj-cols \"padj_K27ac\" \"padj_rnaseq\" \\\n",
    "    --log2fc-cols \"log2FoldChange_K27ac\" \"log2FoldChange_rnaseq\" \\\n",
    "    --legend-group-labels \"DA\" \"DEG\" \\\n",
    "    --axes-labels \"K27ac ChIP-seq log2fc\" \"RNA-seq log2fc\" \\\n",
    "    --suptitle \"Pdx1 target gRNA v control gRNA\" \\\n",
    "    --how \"inner\" \\\n",
    "    --genes-to-highlight \"Pdx1\" \\\n",
    "    --gene-name-col \"GeneName\" \\\n",
    "    --output-format png pdf \\\n",
    "    --fdr-thres 0.05 \\\n",
    "    --input-file1-join-col \"genes\" \\\n",
    "    --input-file2-join-col \"GeneName\" \\\n",
    "    --colors 'grey' '#008695' '#E68310' '#E73F74'  \\\n",
    "    --remove-pseudogenes \\\n",
    "    -o /data/reddylab/Alex/collab/20190701_Matt/results/integrative/mmLiver_p300.K27ac.targeted_vs_control\n",
    "#    \n"
   ]
  },
  {
   "cell_type": "code",
   "execution_count": null,
   "metadata": {},
   "outputs": [],
   "source": [
    "# KRAB (Pcsk9) K9me3\n",
    "/data/reddylab/Alex/collab/20190701_Matt/results/rna_seq/differntial_testing/mm10.rnaseq.PCSK9_gRNA_vs_mm10.rnaseq.Control_gRNA.unshrunk.with_genes.txt\n",
    "/data/reddylab/Alex/collab/20190701_Matt/results/chip_seq/differential_testing/deseq2/mmLiver_KRAB.K9me3.targeted_vs_mmLiver_KRAB.K9me3.scram.with_closest_gene.txt\n"
   ]
  },
  {
   "cell_type": "code",
   "execution_count": null,
   "metadata": {},
   "outputs": [],
   "source": [
    "%%bash\n",
    "python /data/reddylab/Alex/reddylab_utils/scripts/combined_scatter_plot_of_deseq2_results.py \\\n",
    "    -1 /data/reddylab/Alex/collab/20190701_Matt/results/chip_seq/differential_testing/deseq2/mmLiver_KRAB.K9me3.targeted_vs_mmLiver_KRAB.K9me3.scram.unshrunk.with_closest_gene.txt \\\n",
    "    -2 /data/reddylab/Alex/collab/20190701_Matt/results/rna_seq/differntial_testing/mm10.rnaseq.PCSK9_gRNA_vs_mm10.rnaseq.Control_gRNA.unshrunk.with_genes.txt \\\n",
    "    --suffixes \"_K9me3\" \"_rnaseq\" \\\n",
    "    --padj-cols \"padj_K9me3\" \"padj_rnaseq\" \\\n",
    "    --log2fc-cols \"log2FoldChange_K9me3\" \"log2FoldChange_rnaseq\" \\\n",
    "    --legend-group-labels \"DA\" \"DEG\" \\\n",
    "    --axes-labels \"K9me3 ChIP-seq log2fc\" \"RNA-seq log2fc\" \\\n",
    "    --suptitle \"Pcsk9 target gRNA v control gRNA\" \\\n",
    "    --how \"inner\" \\\n",
    "    --genes-to-highlight \"Pcsk9\" \\\n",
    "    --gene-name-col \"GeneName\" \\\n",
    "    --output-format png pdf \\\n",
    "    --fdr-thres 0.05 \\\n",
    "    --input-file1-join-col \"genes\" \\\n",
    "    --input-file2-join-col \"GeneName\" \\\n",
    "    --colors 'grey' '#008695' '#E68310' '#E73F74'  \\\n",
    "    --remove-pseudogenes \\\n",
    "    -o /data/reddylab/Alex/collab/20190701_Matt/results/integrative/mmLiver_KRAB.K9me3.targeted_vs_control\n",
    "#    \n"
   ]
  },
  {
   "cell_type": "markdown",
   "metadata": {},
   "source": [
    "### vs PBS"
   ]
  },
  {
   "cell_type": "code",
   "execution_count": null,
   "metadata": {},
   "outputs": [],
   "source": []
  },
  {
   "cell_type": "code",
   "execution_count": null,
   "metadata": {},
   "outputs": [],
   "source": [
    "# p300 (Pdx1) K27ac\n",
    "/data/reddylab/Alex/collab/20190701_Matt/results/rna_seq/differntial_testing/mm10Liver.rnaseq.PDX1_vs_mm10Liver.rnaseq.non_targeting.unshrunk.with_genes.txt\n",
    "/data/reddylab/Alex/collab/20190701_Matt/results/chip_seq/differential_testing/deseq2/mmLiver_p300.K27ac.targeted_vs_mmLiver_p300.K27ac.scram.with_closest_gene.txt\n"
   ]
  },
  {
   "cell_type": "code",
   "execution_count": 8,
   "metadata": {},
   "outputs": [
    {
     "name": "stderr",
     "output_type": "stream",
     "text": [
      "/data/reddylab/software/miniconda3/envs/alex_py3/lib/python3.7/site-packages/statsmodels/tools/_testing.py:19: FutureWarning: pandas.util.testing is deprecated. Use the functions in the public API at pandas.testing instead.\n",
      "  import pandas.util.testing as tm\n"
     ]
    }
   ],
   "source": [
    "%%bash\n",
    "python /data/reddylab/Alex/reddylab_utils/scripts/combined_scatter_plot_of_deseq2_results.py \\\n",
    "    -1 /data/reddylab/Alex/collab/20190701_Matt/results/chip_seq/differential_testing/deseq2/mmLiver_p300.K27ac.targeted_vs_mmLiver_p300.K27ac.PBS.unshrunk.with_closest_gene.txt \\\n",
    "    -2 /data/reddylab/Alex/collab/20190701_Matt/results/rna_seq/differntial_testing/mm10Liver.rnaseq.PDX1_vs_mm10Liver.rnaseq.PBS.unshrunk.with_genes.txt \\\n",
    "    --suffixes \"_K27ac\" \"_rnaseq\" \\\n",
    "    --padj-cols \"padj_K27ac\" \"padj_rnaseq\" \\\n",
    "    --log2fc-cols \"log2FoldChange_K27ac\" \"log2FoldChange_rnaseq\" \\\n",
    "    --legend-group-labels \"DA\" \"DEG\" \\\n",
    "    --axes-labels \"K27ac ChIP-seq log2fc\" \"RNA-seq log2fc\" \\\n",
    "    --suptitle \"Pdx1 target gRNA v PBS\" \\\n",
    "    --how \"inner\" \\\n",
    "    --genes-to-highlight \"Pdx1\" \\\n",
    "    --gene-name-col \"GeneName\" \\\n",
    "    --output-format png pdf \\\n",
    "    --fdr-thres 0.05 \\\n",
    "    --input-file1-join-col \"genes\" \\\n",
    "    --input-file2-join-col \"GeneName\" \\\n",
    "    --colors 'grey' '#008695' '#E68310' '#E73F74'  \\\n",
    "    --remove-pseudogenes \\\n",
    "    -o /data/reddylab/Alex/collab/20190701_Matt/results/integrative/mmLiver_p300.K27ac.targeted_vs_PBS\n",
    "#    \n"
   ]
  },
  {
   "cell_type": "code",
   "execution_count": null,
   "metadata": {},
   "outputs": [],
   "source": [
    "# KRAB (Pcsk9) K9me3\n",
    "/data/reddylab/Alex/collab/20190701_Matt/results/rna_seq/differntial_testing/mm10.rnaseq.PCSK9_gRNA_vs_mm10.rnaseq.Control_gRNA.unshrunk.with_genes.txt\n",
    "/data/reddylab/Alex/collab/20190701_Matt/results/chip_seq/differential_testing/deseq2/mmLiver_KRAB.K9me3.targeted_vs_mmLiver_KRAB.K9me3.scram.with_closest_gene.txt\n"
   ]
  },
  {
   "cell_type": "code",
   "execution_count": 11,
   "metadata": {},
   "outputs": [
    {
     "name": "stderr",
     "output_type": "stream",
     "text": [
      "/data/reddylab/software/miniconda3/envs/alex_py3/lib/python3.7/site-packages/statsmodels/tools/_testing.py:19: FutureWarning: pandas.util.testing is deprecated. Use the functions in the public API at pandas.testing instead.\n",
      "  import pandas.util.testing as tm\n"
     ]
    }
   ],
   "source": [
    "%%bash\n",
    "python /data/reddylab/Alex/reddylab_utils/scripts/combined_scatter_plot_of_deseq2_results.py \\\n",
    "    -1 /data/reddylab/Alex/collab/20190701_Matt/results/chip_seq/differential_testing/deseq2/mmLiver_KRAB.K9me3.targeted_vs_mmLiver_KRAB.K9me3.PBS.unshrunk.with_closest_gene.txt \\\n",
    "    -2 /data/reddylab/Alex/collab/20190701_Matt/results/rna_seq/differntial_testing/mm10.rnaseq.PCSK9_gRNA_vs_mm10.rnaseq.PBS.unshrunk.with_genes.txt \\\n",
    "    --suffixes \"_K9me3\" \"_rnaseq\" \\\n",
    "    --padj-cols \"padj_K9me3\" \"padj_rnaseq\" \\\n",
    "    --log2fc-cols \"log2FoldChange_K9me3\" \"log2FoldChange_rnaseq\" \\\n",
    "    --legend-group-labels \"DA\" \"DEG\" \\\n",
    "    --axes-labels \"K9me3 ChIP-seq log2fc\" \"RNA-seq log2fc\" \\\n",
    "    --suptitle \"Pcsk9 target gRNA v PBS\" \\\n",
    "    --how \"inner\" \\\n",
    "    --genes-to-highlight \"Pcsk9\" \\\n",
    "    --gene-name-col \"GeneName\" \\\n",
    "    --output-format png pdf \\\n",
    "    --fdr-thres 0.05 \\\n",
    "    --input-file1-join-col \"genes\" \\\n",
    "    --input-file2-join-col \"GeneName\" \\\n",
    "    --colors 'grey' '#008695' '#E68310' '#E73F74'  \\\n",
    "    --remove-pseudogenes \\\n",
    "    -o /data/reddylab/Alex/collab/20190701_Matt/results/integrative/mmLiver_KRAB.K9me3.targeted_vs_PBS\n",
    "#    \n"
   ]
  },
  {
   "cell_type": "markdown",
   "metadata": {},
   "source": [
    "----"
   ]
  },
  {
   "cell_type": "code",
   "execution_count": 2,
   "metadata": {},
   "outputs": [
    {
     "name": "stdout",
     "output_type": "stream",
     "text": [
      "Overwriting /data/reddylab/Alex/reddylab_utils/scripts/combined_scatter_plot_of_deseq2_results.py\n"
     ]
    }
   ],
   "source": [
    "%%writefile /data/reddylab/Alex/reddylab_utils/scripts/combined_scatter_plot_of_deseq2_results.py\n",
    "#!/usr/bin/env python\n",
    "import matplotlib.pyplot as plt\n",
    "plt.rcParams['pdf.fonttype'] = 42\n",
    "plt.rcParams['lines.markersize'] = 5\n",
    "import seaborn as sns\n",
    "import pandas as pd\n",
    "import numpy as np\n",
    "from palettable.cartocolors.qualitative import Bold_8_r\n",
    "import argparse\n",
    "from itertools import product\n",
    "\n",
    "def distance_to_genomic_anno(d, promoter_thres=3000):\n",
    "    if d < promoter_thres:\n",
    "        return \"Promoter <=3kb\"\n",
    "    return \"Distal >3kb\"\n",
    "\n",
    "def get_enrich_group(x, fdr_thres=0.01, labels=[\"DA\", \"DEG\"], padj_cols=[\"padj_file1\", \"padj_file2\"]):\n",
    "    if (x[padj_cols[0]] < fdr_thres) and (x[padj_cols[1]] < fdr_thres):\n",
    "        return 'sig. %(label_file2)s; sig. %(label_file1)s' % ({\"label_file1\": labels[0], \"label_file2\": labels[1]})\n",
    "    if (x[padj_cols[0]] < fdr_thres) and (x[padj_cols[1]] >= fdr_thres):\n",
    "        return 'nonsig. %(label_file2)s; sig. %(label_file1)s' % ({\"label_file1\": labels[0], \"label_file2\": labels[1]})\n",
    "    if (x[padj_cols[0]] >= fdr_thres) and (x[padj_cols[1]] < fdr_thres):\n",
    "        return 'sig. %(label_file2)s; nonsig. %(label_file1)s' % ({\"label_file1\": labels[0], \"label_file2\": labels[1]})\n",
    "    return 'nonsig. %(label_file2)s; nonsig. %(label_file1)s' % ({\"label_file1\": labels[0], \"label_file2\": labels[1]})\n",
    "    \n",
    "def order_categories_and_colors(categories, colors, fdr_thres=0.01, labels=[\"DA\", \"DEG\"]):\n",
    "    cc = []\n",
    "    cs = []\n",
    "    for ix, p in enumerate(product(\n",
    "        [\"nonsig. %s\" % labels[1], \"sig. %s\" % labels[1]],\n",
    "        [\"nonsig. %s\" % labels[0], \"sig. %s\" % labels[0]],\n",
    "    )):\n",
    "        lab = \"; \".join(p)\n",
    "        if lab in categories:\n",
    "            cc.append(lab)\n",
    "            cs.append(colors[ix])\n",
    "    return cc, cs\n",
    "    \n",
    "\n",
    "def main():\n",
    "    parser = argparse.ArgumentParser(formatter_class=argparse.RawTextHelpFormatter, \\\n",
    "    description=\"\"\"\n",
    "\n",
    "    Given two files containing DESeq2 results, create a combined scatter plot\n",
    "    to compare the results. By default, the script assumes the input files have\n",
    "    gene ids in the first column, and will join both files accordingly (outer join).\n",
    "\n",
    "    \"\"\")\n",
    "\n",
    "    ##################################################\n",
    "    # required args:\n",
    "\n",
    "    parser.add_argument(\"-1\", \"--input-file1\", help=\"\"\"required, file path to first set of DESeq2 results (x-axis).\"\"\", \n",
    "                        required=True)\n",
    "    parser.add_argument(\"-2\", \"--input-file2\", help=\"\"\"required, file path to second set of DESeq2 results (y-axis).\"\"\", \n",
    "                        required=True)\n",
    "    parser.add_argument(\"-o\",\"--outname\", type=str, help=\"\"\"required, path and basename used to create output files\"\"\", \n",
    "                        required=True)\n",
    "\n",
    "    ##################################################\n",
    "    # optional args:\n",
    "    parser.add_argument(\"--colors\", nargs='*', default=['grey'] + Bold_8_r.hex_colors[1:2] + [Bold_8_r.hex_colors[3]],\n",
    "                       help=\"\"\"optional, list of colors to use.\"\"\")\n",
    "    parser.add_argument(\"--suffixes\", type=str, nargs=2, default=[\"_file1\", \"_file2\"], \n",
    "                        help=\"\"\"optional, suffixes used to differentiate common columns (default: ['_file1', '_file2'])\"\"\")\n",
    "    parser.add_argument(\"--padj-cols\", type=str, nargs=2, default=[\"padj_file1\", \"padj_file2\"], \n",
    "                        help=\"\"\"optional, column names of the padj (significance) values (default: ['padj_file1', 'padj_file2'])\"\"\")\n",
    "    parser.add_argument(\"--log2fc-cols\", type=str, nargs=2, default=[\"log2FoldChange_file1\", \"log2FoldChange_file2\"], \n",
    "                        help=\"\"\"optional, column names of the log2fc (enrichment) values (default: ['log2FoldChange_file1', 'log2FoldChange_file2'])\"\"\")\n",
    "    parser.add_argument(\"--legend-group-labels\", type=str, nargs=2, default=[\"DA\", \"DEG\"], \n",
    "                        help=\"\"\"optional, tags used to label elements in legend (default: ['DA', 'DEG'])\"\"\")\n",
    "    parser.add_argument(\"--axes-labels\", type=str, nargs=2, default=[\"DA\", \"DEG\"], \n",
    "                        help=\"\"\"optional, tags used to label axis (default: ['DA', 'DEG'])\"\"\")\n",
    "    parser.add_argument(\"--suptitle\", type=str, default=\"Combined scatterplot\",\n",
    "                        help=\"\"\"optional, figure title (default: %(default)s)\"\"\")\n",
    "    parser.add_argument(\"--how\", type=str, default=\"outer\",\n",
    "                        help=\"\"\"optional, how to join both result files. Possible options are: {'left', 'right', 'outer', 'inner'},(default: %(default)s)\"\"\")\n",
    "    parser.add_argument(\"--genes-to-highlight\", type=str, nargs=\"*\",\n",
    "                        help=\"\"\"optional, gene_symbol names of genes of interest (will be labeled/highlighted)\"\"\")\n",
    "    parser.add_argument(\"--gene-name-col\", type=str, default=\"GeneName_file1\", \n",
    "                        help=\"\"\"optional, column containing the GeneSymbol names used to filter genes to highlight (default: %(default)s)\"\"\")\n",
    "    parser.add_argument(\"--output-format\", type=str, nargs=\"*\", default=[\"pdf\"],\n",
    "                        help=\"\"\"optional, extensions used to create plot (e.g. pdf, png). (default: pdf)\"\"\")\n",
    "    parser.add_argument(\"--fdr-thres\", type=float, default=0.05,\n",
    "                        help=\"\"\"optional, threshold used to determine significant hits. (default: %(default)f)\"\"\")\n",
    "    parser.add_argument(\"--input-file1-join-col\", type=str, \n",
    "                        help=\"\"\"optional, column name in input file1 used to merge the results. (default: first column)\"\"\")\n",
    "    parser.add_argument(\"--input-file2-join-col\", type=str, \n",
    "                        help=\"\"\"optional, column name in input file2 used to merge the results. (default: first column)\"\"\")\n",
    "    parser.add_argument(\"--breakdown-by-genomic-anno-distance-col\", type=int,\n",
    "                        help=\"\"\"optional, if specified, facetwrap the final scatter plot by genomic annotation using the distance\n",
    "                        specified in this column. This is only useful when the elements from both sets are not the same, \n",
    "                        but they are connected (e.g. peaks and genes)\"\"\")\n",
    "    parser.add_argument(\"--remove-pseudogenes\", action='store_true', default=False,\n",
    "                        help=\"\"\"optional, the script will filter out \"pseudogene\"(s) based on the values in the GeneType column (should be present in only one of the files)\"\"\")\n",
    "    \n",
    "    ###################################################\n",
    "    \n",
    "    args = parser.parse_args()\n",
    "    fdr_thres = args.fdr_thres\n",
    "    \n",
    "    # Load files\n",
    "    df1 = pd.read_csv(args.input_file1, sep='\\t')\n",
    "    df2 = pd.read_csv(args.input_file2, sep='\\t')\n",
    "    \n",
    "    if args.input_file1_join_col is not None and args.input_file2_join_col is not None:\n",
    "        merged = df1.merge(df2, \n",
    "                           left_on=args.input_file1_join_col, \n",
    "                           right_on=args.input_file2_join_col, \n",
    "                           suffixes=args.suffixes,\n",
    "                           how=args.how)\n",
    "    else:\n",
    "        merged = df1.join(df2, how=args.how, lsuffix=args.suffixes[0], rsuffix=args.suffixes[1])\n",
    "\n",
    "    if args.remove_pseudogenes:\n",
    "        merged = merged.loc[~merged.GeneType.str.contains('pseudogene'), :]\n",
    "    \n",
    "    # In case of outer join, assigned 1 to padj cols\n",
    "    merged= merged.fillna(1)\n",
    "    # If there are NA in the significant columns, replace with 1s\n",
    "#     merged.loc[merged[args.padj_cols[0]].isna(), args.padj_cols[0]] = 1\n",
    "#     merged.loc[merged[args.padj_cols[1]].isna(), args.padj_cols[1]] = 1\n",
    "#     merged[args.padj_cols[0]] = merged[args.padj_cols[0]].astype(float)\n",
    "#     merged[args.padj_cols[1]] = merged[args.padj_cols[1]].astype(float)\n",
    "    \n",
    "    # Break down by combination of significant hits\n",
    "    merged['group (FDR<%.2f)' % fdr_thres] = merged.apply(get_enrich_group, \n",
    "                                                          fdr_thres=fdr_thres,\n",
    "                                                          labels=args.legend_group_labels,\n",
    "                                                          padj_cols=args.padj_cols,\n",
    "                                                          axis = 1)\n",
    "    \n",
    "    merged.to_csv('%s.txt' % (args.outname), sep=\"\\t\", index=False)\n",
    "\n",
    "    hue_order, colors_order = order_categories_and_colors((merged['group (FDR<%.2f)' % fdr_thres]).unique(), \n",
    "                                args.colors, \n",
    "                                fdr_thres=args.fdr_thres, \n",
    "                                labels=args.legend_group_labels)\n",
    "\n",
    "    fig, ax = plt.subplots(figsize=[6, 4])\n",
    "#     sns.scatterplot(data = merged, x=args.log2fc_cols[0], y=args.log2fc_cols[1], \n",
    "#                     hue = 'group (FDR<%.2f)' % fdr_thres, hue_order=hue_order,\n",
    "#                     palette= colors_order, s=20, edgecolor=None, alpha=.75, rasterized=True)\n",
    "\n",
    "    # Alt\n",
    "    for ix in range(len(hue_order)):\n",
    "        ax.scatter(\n",
    "            merged.loc[merged['group (FDR<%.2f)' % fdr_thres]==hue_order[ix], args.log2fc_cols[0]], \n",
    "            merged.loc[merged['group (FDR<%.2f)' % fdr_thres]==hue_order[ix], args.log2fc_cols[1]], \n",
    "            color=colors_order[ix], s=20, alpha=.75, edgecolor=None, \n",
    "            rasterized= True if ix in [0] else False, \n",
    "            label=hue_order[ix],\n",
    "            zorder=ix\n",
    "        )\n",
    "    # End alt\n",
    "    xlims = [1.1*(merged[args.log2fc_cols[0]].min()), 1.1*(merged[args.log2fc_cols[0]].max())]\n",
    "    ylims = [1.1*(merged[args.log2fc_cols[1]].min()), 1.1*(merged[args.log2fc_cols[1]].max())]\n",
    "    plt.xlim(xlims) \n",
    "    plt.ylim(ylims)\n",
    "    plt.vlines(0, ylims[0], ylims[1], linestyle='--', color='grey')\n",
    "    plt.hlines(0, xlims[0], xlims[1], linestyle='--', color='grey')\n",
    "\n",
    "    for x, y, t in zip(\n",
    "        merged[args.log2fc_cols[0]].values, \n",
    "        merged[args.log2fc_cols[1]].values, \n",
    "        merged[args.gene_name_col]) :\n",
    "        if t not in args.genes_to_highlight: continue\n",
    "        ax.annotate('{}'.format(t), xy=(x, y), \n",
    "                    xytext=(.75*x, .75*y), #xytext=(5, 0), \n",
    "                    ha='left', va='bottom', #ha='left',\n",
    "                    arrowprops=dict(arrowstyle='-', color='black'))\n",
    "\n",
    "    plt.legend(bbox_to_anchor=(1, 1.05), frameon=False, title='group (FDR<%.2f)' % fdr_thres)\n",
    "    plt.ylabel(args.axes_labels[1])#'RNA-seq log2fc')\n",
    "    plt.xlabel(args.axes_labels[0])#'K27ac ChIP-seq log2fc')\n",
    "    fig.suptitle(args.suptitle)#'Cre+/g5 v Cre+/NTC')\n",
    "\n",
    "    sns.despine()\n",
    "    plt.tight_layout()\n",
    "    for extension in args.output_format:\n",
    "        plt.savefig('%s.%s' % (args.outname, extension))\n",
    "    \n",
    "    return\n",
    "\n",
    "if __name__ == '__main__':\n",
    "    main()\n"
   ]
  }
 ],
 "metadata": {
  "kernelspec": {
   "display_name": "Python3 (alex_py3)",
   "language": "python",
   "name": "alex-py3"
  },
  "language_info": {
   "codemirror_mode": {
    "name": "ipython",
    "version": 3
   },
   "file_extension": ".py",
   "mimetype": "text/x-python",
   "name": "python",
   "nbconvert_exporter": "python",
   "pygments_lexer": "ipython3",
   "version": "3.7.6"
  }
 },
 "nbformat": 4,
 "nbformat_minor": 4
}
