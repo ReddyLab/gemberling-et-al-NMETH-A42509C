{
 "cells": [
  {
   "cell_type": "markdown",
   "metadata": {},
   "source": [
    "Save `cleaned` KS162_CrePos_g5_rep3"
   ]
  },
  {
   "cell_type": "code",
   "execution_count": null,
   "metadata": {},
   "outputs": [],
   "source": [
    "%%bash\n",
    "comm  -2 -3  \\\n",
    "    <(gzip -dc /data/reddylab/Keith/collab/200924_Gemberling/data/chip_seq/processed_raw_reads/Siklenka_6683_201201A5/KS162_CrePos_g5_rep3.R1.fastq.gz  \\\n",
    "        | awk 'NR%4==1{res=$1}NR%4>1{res=res\"\\t\"$1}NR%4==0{res=res\"\\t\"$1; print res}'  \\\n",
    "        | sort -k1,1) \\\n",
    "    <(gzip -dc /data/reddylab/Keith/encode4_duke/data/atac_seq/processed_raw_reads/Keith_6683_201201A5/KS136_Th17ASTARRInput_rep1.R1.fastq.gz \\\n",
    "        | awk 'NR%4==1{res=$1}NR%4>1{res=res\"\\t\"$1}NR%4==0{res=res\"\\t\"$1; print res}' \\\n",
    "        | sort -k1,1) \\\n",
    "| tr '\\t' '\\n' \\\n",
    "| gzip -c > /data/reddylab/Alex/tmp/cleaned.KS162_CrePos_g5_rep3.R1.fastq.gz\n",
    "\n",
    "comm  -2 -3  \\\n",
    "    <(gzip -dc /data/reddylab/Keith/collab/200924_Gemberling/data/chip_seq/processed_raw_reads/Siklenka_6683_201201A5/KS162_CrePos_g5_rep3.R2.fastq.gz  \\\n",
    "        | awk 'NR%4==1{res=$1}NR%4>1{res=res\"\\t\"$1}NR%4==0{res=res\"\\t\"$1; print res}'  \\\n",
    "        | sort -k1,1) \\\n",
    "    <(gzip -dc /data/reddylab/Keith/encode4_duke/data/atac_seq/processed_raw_reads/Keith_6683_201201A5/KS136_Th17ASTARRInput_rep1.R2.fastq.gz \\\n",
    "        | awk 'NR%4==1{res=$1}NR%4>1{res=res\"\\t\"$1}NR%4==0{res=res\"\\t\"$1; print res}' \\\n",
    "        | sort -k1,1) \\\n",
    "| tr '\\t' '\\n' \\\n",
    "| gzip -c > /data/reddylab/Alex/tmp/cleaned.KS162_CrePos_g5_rep3.R2.fastq.gz"
   ]
  },
  {
   "cell_type": "markdown",
   "metadata": {},
   "source": [
    "Save `cleaned` KS136_Th17ASTARRInput_rep1"
   ]
  },
  {
   "cell_type": "code",
   "execution_count": null,
   "metadata": {},
   "outputs": [],
   "source": [
    "%%bash\n",
    "comm  -1 -3  \\\n",
    "    <(gzip -dc /data/reddylab/Keith/collab/200924_Gemberling/data/chip_seq/processed_raw_reads/Siklenka_6683_201201A5/KS162_CrePos_g5_rep3.R1.fastq.gz  \\\n",
    "        | awk 'NR%4==1{res=$1}NR%4>1{res=res\"\\t\"$1}NR%4==0{res=res\"\\t\"$1; print res}'  \\\n",
    "        | sort -k1,1) \\\n",
    "    <(gzip -dc /data/reddylab/Keith/encode4_duke/data/atac_seq/processed_raw_reads/Keith_6683_201201A5/KS136_Th17ASTARRInput_rep1.R1.fastq.gz \\\n",
    "        | awk 'NR%4==1{res=$1}NR%4>1{res=res\"\\t\"$1}NR%4==0{res=res\"\\t\"$1; print res}' \\\n",
    "        | sort -k1,1) \\\n",
    "| tr '\\t' '\\n' \\\n",
    "| gzip -c > /data/reddylab/Alex/tmp/cleaned.KS136_Th17ASTARRInput_rep1.R1.fastq.gz\n",
    "\n",
    "comm  -1 -3  \\\n",
    "    <(gzip -dc /data/reddylab/Keith/collab/200924_Gemberling/data/chip_seq/processed_raw_reads/Siklenka_6683_201201A5/KS162_CrePos_g5_rep3.R2.fastq.gz  \\\n",
    "        | awk 'NR%4==1{res=$1}NR%4>1{res=res\"\\t\"$1}NR%4==0{res=res\"\\t\"$1; print res}'  \\\n",
    "        | sort -k1,1) \\\n",
    "    <(gzip -dc /data/reddylab/Keith/encode4_duke/data/atac_seq/processed_raw_reads/Keith_6683_201201A5/KS136_Th17ASTARRInput_rep1.R2.fastq.gz \\\n",
    "        | awk 'NR%4==1{res=$1}NR%4>1{res=res\"\\t\"$1}NR%4==0{res=res\"\\t\"$1; print res}' \\\n",
    "        | sort -k1,1) \\\n",
    "| tr '\\t' '\\n' \\\n",
    "| gzip -c > /data/reddylab/Alex/tmp/cleaned.KS136_Th17ASTARRInput_rep1.R2.fastq.gz\n"
   ]
  }
 ],
 "metadata": {
  "kernelspec": {
   "display_name": "alex_dev",
   "language": "python",
   "name": "alex_dev"
  },
  "language_info": {
   "codemirror_mode": {
    "name": "ipython",
    "version": 2
   },
   "file_extension": ".py",
   "mimetype": "text/x-python",
   "name": "python",
   "nbconvert_exporter": "python",
   "pygments_lexer": "ipython2",
   "version": "2.7.15"
  }
 },
 "nbformat": 4,
 "nbformat_minor": 4
}
