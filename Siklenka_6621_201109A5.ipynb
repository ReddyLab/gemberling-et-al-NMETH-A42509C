{
 "cells": [
  {
   "cell_type": "markdown",
   "metadata": {},
   "source": [
    "# Siklenka_6621_201109A5 - chip_seq\n",
    "This notebook will create all the necessary files, scripts and folders to pre-process the aforementioned project. Is designed to be used in a jupyter server deployed in a system running SLURM. The majority of the scripts and heavy-lifting processes are wrapped up in sbatch scripts.As an end user, in order to pre-process your samples provided in the spread sheet, you will simply need to *run the entire notebook* (Cell > Run all) and the system should take care of the rest for you.\n",
    "#### Create necessary folder(s)"
   ]
  },
  {
   "cell_type": "code",
   "execution_count": 1,
   "metadata": {},
   "outputs": [],
   "source": [
    "%%bash\n",
    "mkdir -p /data/reddylab/Alex/collab/20190701_Matt//data/chip_seq/metadata\n",
    "mkdir -p /data/reddylab/Alex/collab/20190701_Matt//data/chip_seq/raw_reads\n",
    "mkdir -p /data/reddylab/Alex/collab/20190701_Matt//data/chip_seq/processed_raw_reads\n",
    "mkdir -p /data/reddylab/Alex/collab/20190701_Matt//processing/chip_seq/scripts\n",
    "mkdir -p /data/reddylab/Alex/collab/20190701_Matt//processing/chip_seq/jsons\n",
    "mkdir -p /data/reddylab/Alex/collab/20190701_Matt//processing/chip_seq/logs"
   ]
  },
  {
   "cell_type": "markdown",
   "metadata": {},
   "source": [
    "Save metadata file"
   ]
  },
  {
   "cell_type": "code",
   "execution_count": 2,
   "metadata": {},
   "outputs": [
    {
     "name": "stdout",
     "output_type": "stream",
     "text": [
      "Writing /data/reddylab/Alex/collab/20190701_Matt//data/chip_seq/metadata/chip_seq_download_metadata.Siklenka_6621_201109A5.txt\n"
     ]
    }
   ],
   "source": [
    "%%writefile /data/reddylab/Alex/collab/20190701_Matt//data/chip_seq/metadata/chip_seq_download_metadata.Siklenka_6621_201109A5.txt\n",
    "Sequencing core project\tSequencing core library name\tName\tPaired-end or single-end\tGenome\tLibrary type\tControl\n",
    "Siklenka_6621_201109A5\tKS157-CREneg-g5-K27ac-rep1\tKS157.CREneg.g5.K27ac.rep1\tPE\tmm10\tChIP-seq\t\n",
    "Siklenka_6621_201109A5\tKS157-CREneg-g5-K27ac-rep2\tKS157.CREneg.g5.K27ac.rep2\tPE\tmm10\tChIP-seq\t\n",
    "Siklenka_6621_201109A5\tKS157-CREneg-g5-K27ac-rep3\tKS157.CREneg.g5.K27ac.rep3\tPE\tmm10\tChIP-seq\t\n",
    "Siklenka_6621_201109A5\tKS157-CREpos-NTC-K27ac-rep1\tKS157.CREpos.NTC.K27ac.rep1\tPE\tmm10\tChIP-seq\t\n",
    "Siklenka_6621_201109A5\tKS157-CREpos-NTC-K27ac-rep2\tKS157.CREpos.NTC.K27ac.rep2\tPE\tmm10\tChIP-seq\t\n",
    "Siklenka_6621_201109A5\tKS157-CREpos-NTC-K27ac-rep3\tKS157.CREpos.NTC.K27ac.rep3\tPE\tmm10\tChIP-seq\t\n",
    "Siklenka_6621_201109A5\tKS157-CREpos-g5-K27ac-rep1\tKS157.CREpos.g5.K27ac.rep1\tPE\tmm10\tChIP-seq\t\n",
    "Siklenka_6621_201109A5\tKS157-CREpos-g5-K27ac-rep2\tKS157.CREpos.g5.K27ac.rep2\tPE\tmm10\tChIP-seq\t\n",
    "Siklenka_6621_201109A5\tKS157-CREpos-g5-K27ac-rep3\tKS157.CREpos.g5.K27ac.rep3\tPE\tmm10\tChIP-seq\t\n"
   ]
  },
  {
   "cell_type": "markdown",
   "metadata": {},
   "source": [
    "#### Download FASTQ from dukeds\n",
    "Create file to download FASTQ files"
   ]
  },
  {
   "cell_type": "code",
   "execution_count": null,
   "metadata": {},
   "outputs": [],
   "source": [
    "%%writefile /data/reddylab/Alex/collab/20190701_Matt//processing/chip_seq/scripts/download_Siklenka_6621_201109A5.sh\n",
    "#!/bin/bash\n",
    "METADATA=/data/reddylab/Alex/collab/20190701_Matt//data/chip_seq/metadata/chip_seq_download_metadata.Siklenka_6621_201109A5.txt\n",
    "DATA_HOME=/data/reddylab/Alex/collab/20190701_Matt//data/chip_seq\n",
    "mkdir -p ${DATA_HOME}/raw_reads/\n",
    "\n",
    "module load ddsclient\n",
    "ddsclient download -p Siklenka_6621_201109A5 ${DATA_HOME}/raw_reads/Siklenka_6621_201109A5\n"
   ]
  },
  {
   "cell_type": "markdown",
   "metadata": {},
   "source": [
    "Execute file to download files"
   ]
  },
  {
   "cell_type": "code",
   "execution_count": null,
   "metadata": {},
   "outputs": [],
   "source": [
    "%%script --out blocking_job_str bash\n",
    "sbatch -o /data/reddylab/Alex/collab/20190701_Matt//processing/chip_seq/logs/Siklenka_6621_201109A5_download_fastq_files.out \\\n",
    " -p all,new \\\n",
    " --wrap=\"ssh aeb84@Hardac-xfer.genome.duke.edu 'sh /data/reddylab/Alex/collab/20190701_Matt//processing/chip_seq/scripts/download_Siklenka_6621_201109A5.sh' \""
   ]
  },
  {
   "cell_type": "markdown",
   "metadata": {},
   "source": [
    "Extract blocking job id"
   ]
  },
  {
   "cell_type": "code",
   "execution_count": null,
   "metadata": {},
   "outputs": [],
   "source": [
    "import re\n",
    "blocking_job = re.match('Submitted batch job (\\d+).*', blocking_job_str).group(1)"
   ]
  },
  {
   "cell_type": "markdown",
   "metadata": {},
   "source": [
    "#### Merge lanes of FASTQ files"
   ]
  },
  {
   "cell_type": "code",
   "execution_count": null,
   "metadata": {},
   "outputs": [],
   "source": [
    "%%writefile /data/reddylab/Alex/collab/20190701_Matt//processing/chip_seq/scripts/merge_lanes_Siklenka_6621_201109A5.sh\n",
    "#!/bin/bash\n",
    "#SBATCH --array=0-9%20\n",
    "ORDER=Siklenka_6621_201109A5\n",
    "RAW_DATA_DIR=/data/reddylab/Alex/collab/20190701_Matt//data/chip_seq/raw_reads/${ORDER}\n",
    "PROCESSED_DATA_DIR=/data/reddylab/Alex/collab/20190701_Matt//data/chip_seq/processed_raw_reads/${ORDER}\n",
    "METADATA=/data/reddylab/Alex/collab/20190701_Matt//data/chip_seq/metadata/chip_seq_download_metadata.Siklenka_6621_201109A5.txt\n",
    "\n",
    "mkdir -p ${PROCESSED_DATA_DIR}\n",
    "cd ${PROCESSED_DATA_DIR}\n",
    "\n",
    "seq_name_header=$(/bin/grep -Eoi \"sequencing.?core.?library.?name\" ${METADATA})\n",
    "if [[ $? == 1 ]];\n",
    "then\n",
    "    echo -e \"ERROR: Sequencing core library name not found in ${METADATA}\"\n",
    "    exit 1\n",
    "fi\n",
    "\n",
    "name_header=$(/bin/grep -Poi \"\\tname\\t\" ${METADATA})\n",
    "if [[ $? == 1 ]];\n",
    "then\n",
    "    echo -e \"ERROR: Library Name column not found in ${METADATA}\"\n",
    "    exit 1\n",
    "fi\n",
    "name_header=$(echo ${name_header} | cut -f2)\n",
    "\n",
    "seq_type_header=$(head -1 ${METADATA} | /bin/grep -Poi \"paired.?end.?or.?single.?end\")\n",
    "if [[ $? == 1 ]];\n",
    "then\n",
    "    echo -e \"ERROR: Paired-end or single-end column not found in ${METADATA}\"\n",
    "    exit 1\n",
    "fi\n",
    "\n",
    "sample_seq_name=$(/data/reddylab/software/bin/print_tab_cols.awk -v cols=\"${seq_name_header}\" ${METADATA} \\\n",
    "    | awk -v SLURM_ARRAY_TASK_ID=${SLURM_ARRAY_TASK_ID} 'NR==SLURM_ARRAY_TASK_ID+1{print}');\n",
    "sample_name=$(/data/reddylab/software/bin/print_tab_cols.awk -v cols=\"${name_header}\" ${METADATA} \\\n",
    "    | awk -v SLURM_ARRAY_TASK_ID=${SLURM_ARRAY_TASK_ID} 'NR==SLURM_ARRAY_TASK_ID+1{print}');\n",
    "seq_type=$(/data/reddylab/software/bin/print_tab_cols.awk -v cols=\"${seq_type_header}\" ${METADATA} \\\n",
    "    | awk -v SLURM_ARRAY_TASK_ID=${SLURM_ARRAY_TASK_ID} 'NR==SLURM_ARRAY_TASK_ID+1{print}');\n",
    "\n",
    "\n",
    "for read_pair in R1 R2 UMI;\n",
    "do\n",
    "    sample_files=$(/bin/ls ${RAW_DATA_DIR}/${sample_seq_name/ /}_S[0-9]*_L[0-9][0-9][0-9]_${read_pair}_* 2> /dev/null)\n",
    "    if [[ $? != 0 ]]; # If no samples found with that read_pair, continue\n",
    "    then\n",
    "        continue;\n",
    "    fi\n",
    "    if [[ ${read_pair} == \"R1\" || (${seq_type/ /} == \"PE\" || ${seq_type/ /} == \"pe\") ]];\n",
    "    then\n",
    "        # Merge all lanes\n",
    "        merged=$(basename $(echo ${sample_files} | awk '{print $1}') | sed -e 's/_L[0-9]\\{3\\}_/_/')\n",
    "        cat ${sample_files} > ${merged};\n",
    "\n",
    "        # Rename samples with our sample Names\n",
    "        dest_filename=$(basename $(echo ${merged} | awk '{print $1}') | sed -r 's/\\_S[0-9]+//; s/\\_(R1|R2|UMI)\\_/\\.\\1\\./; s/\\.[0-9]+\\.fastq/\\.fastq/')\n",
    "        mv ${merged} ${dest_filename}\n",
    "\n",
    "        cleaned_dest_filename=${dest_filename/${sample_seq_name/ /}/${sample_name/ /}}\n",
    "\n",
    "        if [[ ${seq_type/ /} == \"SE\" || ${seq_type/ /} == \"se\" ]];\n",
    "        then\n",
    "            cleaned_dest_filename=${cleaned_dest_filename/.R1/}\n",
    "        fi\n",
    "        \n",
    "        mv ${dest_filename} ${cleaned_dest_filename}\n",
    "    fi\n",
    "done\n"
   ]
  },
  {
   "cell_type": "markdown",
   "metadata": {},
   "source": [
    "Execute file to merge lanes of FASTQ files"
   ]
  },
  {
   "cell_type": "code",
   "execution_count": null,
   "metadata": {},
   "outputs": [],
   "source": [
    "%%script --out blocking_job_str bash -s \"$blocking_job\"\n",
    "sbatch -o /data/reddylab/Alex/collab/20190701_Matt//processing/chip_seq/logs/Siklenka_6621_201109A5_merge_fastq_files_%a.out \\\n",
    " -p all,new \\\n",
    " --depend afterok:$1 \\\n",
    " --array 0-8%20 \\\n",
    " /data/reddylab/Alex/collab/20190701_Matt//processing/chip_seq/scripts/merge_lanes_Siklenka_6621_201109A5.sh"
   ]
  },
  {
   "cell_type": "markdown",
   "metadata": {},
   "source": [
    "Extract blocking job id"
   ]
  },
  {
   "cell_type": "code",
   "execution_count": null,
   "metadata": {},
   "outputs": [],
   "source": [
    "import re\n",
    "blocking_job = re.match('Submitted batch job (\\d+).*', blocking_job_str).group(1)"
   ]
  },
  {
   "cell_type": "code",
   "execution_count": 7,
   "metadata": {},
   "outputs": [],
   "source": [
    "%%bash\n",
    "ORDER=Siklenka_6621_201109A5\n",
    "RAW_DATA_DIR=/data/reddylab/Alex/collab/20190701_Matt//data/chip_seq/raw_reads/${ORDER}\n",
    "PROCESSED_DATA_DIR=/data/reddylab/Alex/collab/20190701_Matt//data/chip_seq/processed_raw_reads/${ORDER}\n",
    "# mv ${PROCESSED_DATA_DIR/chip_seq/rna_seq} ${PROCESSED_DATA_DIR}\n",
    "# ls -la  ${PROCESSED_DATA_DIR}"
   ]
  },
  {
   "cell_type": "markdown",
   "metadata": {},
   "source": [
    "#### Create JSON files for CWL pipeline files"
   ]
  },
  {
   "cell_type": "code",
   "execution_count": 8,
   "metadata": {},
   "outputs": [
    {
     "name": "stdout",
     "output_type": "stream",
     "text": [
      "Writing /data/reddylab/Alex/collab/20190701_Matt//processing/chip_seq/scripts/cwl_json_gen_Siklenka_6621_201109A5.sh\n"
     ]
    }
   ],
   "source": [
    "%%writefile /data/reddylab/Alex/collab/20190701_Matt//processing/chip_seq/scripts/cwl_json_gen_Siklenka_6621_201109A5.sh\n",
    "#!/bin/bash\n",
    "ORDER=Siklenka_6621_201109A5\n",
    "PROCESSED_DATA_DIR=/data/reddylab/Alex/collab/20190701_Matt//data/chip_seq/processed_raw_reads/${ORDER}\n",
    "METADATA=/data/reddylab/Alex/collab/20190701_Matt//data/chip_seq/metadata/chip_seq_download_metadata.Siklenka_6621_201109A5.txt\n",
    "\n",
    "python /data/reddylab/software/cwl/GGR-cwl/v1.0/json-generator/run.py \\\n",
    "    -m ${METADATA} \\\n",
    "    -d ${PROCESSED_DATA_DIR} \\\n",
    "    -o /data/reddylab/Alex/collab/20190701_Matt//processing/chip_seq/jsons \\\n",
    "    -t chip-seq \\\n",
    "    --fastq-gzipped \\\n",
    "    --mem 24000 \\\n",
    "    --nthreads 16 \\\n",
    "    --separate-jsons\n",
    "\n"
   ]
  },
  {
   "cell_type": "markdown",
   "metadata": {},
   "source": [
    "Execute file to create JSON files"
   ]
  },
  {
   "cell_type": "code",
   "execution_count": 9,
   "metadata": {},
   "outputs": [],
   "source": [
    "%%script --out blocking_job_str bash -s \"$blocking_job\"\n",
    "source /data/reddylab/software/miniconda2/bin/activate cwl10\n",
    "sbatch -o /data/reddylab/Alex/collab/20190701_Matt//processing/chip_seq/logs/Siklenka_6621_201109A5_cwl_json_gen.out \\\n",
    " -p all,new \\\n",
    " /data/reddylab/Alex/collab/20190701_Matt//processing/chip_seq/scripts/cwl_json_gen_Siklenka_6621_201109A5.sh"
   ]
  },
  {
   "cell_type": "markdown",
   "metadata": {},
   "source": [
    "Extract blocking job id"
   ]
  },
  {
   "cell_type": "code",
   "execution_count": 10,
   "metadata": {},
   "outputs": [],
   "source": [
    "import re\n",
    "blocking_job = re.match('Submitted batch job (\\d+).*', blocking_job_str).group(1)"
   ]
  },
  {
   "cell_type": "markdown",
   "metadata": {},
   "source": [
    "#### Create SLURM array master bash file for pe samples"
   ]
  },
  {
   "cell_type": "code",
   "execution_count": 2,
   "metadata": {},
   "outputs": [
    {
     "name": "stdout",
     "output_type": "stream",
     "text": [
      "Overwriting /data/reddylab/Alex/collab/20190701_Matt//processing/chip_seq/scripts/Siklenka_6621_201109A5-pe.sh\n"
     ]
    }
   ],
   "source": [
    "%%writefile /data/reddylab/Alex/collab/20190701_Matt//processing/chip_seq/scripts/Siklenka_6621_201109A5-pe.sh\n",
    "#!/bin/bash\n",
    "#SBATCH --job-name=cwl_chip_seq\n",
    "#SBATCH --output=/data/reddylab/Alex/collab/20190701_Matt//processing/chip_seq/logs/Siklenka_6621_201109A5-pe-%a.out\n",
    "#SBATCH --mail-user=aeb84@duke.edu,ks476@duke.edu\n",
    "#SBATCH --mail-type=FAIL,END\n",
    "#SBATCH --mem=24000\n",
    "#SBATCH --cpus-per-task=16\n",
    "\n",
    "export PATH=\"/data/reddylab/software/bin:$PATH\"\n",
    "export PATH=\"/data/reddylab/software/cwl/bin:$PATH\"\n",
    "export PATH=\"/data/reddylab/software/preseq_v2.0:$PATH\"\n",
    "export PATH=\"/data/reddylab/software/rsem-1.2.21/:$PATH\"\n",
    "export PATH=\"/data/reddylab/software/phantompeakqualtools-1.2/:$PATH\"\n",
    "export PATH=\"/data/reddylab/software/miniconda2/envs/cwl10/bin:$PATH\"\n",
    "\n",
    "module load bedtools2\n",
    "module load fastqc\n",
    "module load samtools\n",
    "module load bowtie2\n",
    "module load java\n",
    "\n",
    "# For Fastqc\n",
    "export DISPLAY=:0.0\n",
    "\n",
    "# Make sure temporary files and folders are created in a specific folder\n",
    "mkdir -p /data/reddylab/Alex/collab/20190701_Matt//processing/chip_seq/tmpdirs/tmp-Siklenka_6621_201109A5-pe-${SLURM_ARRAY_TASK_ID}-\n",
    "export TMPDIR=\"/data/reddylab/Alex/collab/20190701_Matt//processing/chip_seq/tmpdirs/tmp-Siklenka_6621_201109A5-pe-${SLURM_ARRAY_TASK_ID}-\"\n",
    "\n",
    "cwltool --debug \\\n",
    "    --non-strict \\\n",
    "    --preserve-environment PATH \\\n",
    "    --preserve-environment DISPLAY \\\n",
    "    --preserve-environment TMPDIR \\\n",
    "    --outdir /data/reddylab/Alex/collab/20190701_Matt//processing/chip_seq/Siklenka_6621_201109A5-pe  \\\n",
    "    --no-container \\\n",
    "    /data/reddylab/software/cwl/GGR-cwl/v1.0/ChIP-seq_pipeline/pipeline-pe.cwl \\\n",
    "    /data/reddylab/Alex/collab/20190701_Matt//processing/chip_seq/jsons/chip_seq_download_metadata.Siklenka_6621_201109A5-pe-${SLURM_ARRAY_TASK_ID}.json\n",
    "\n",
    "# Delete any tmpdir not removed by cwltool\n",
    "rm -rf /data/reddylab/Alex/collab/20190701_Matt//processing/chip_seq/tmpdirs/tmp-Siklenka_6621_201109A5-pe-${SLURM_ARRAY_TASK_ID}-\n"
   ]
  },
  {
   "cell_type": "markdown",
   "metadata": {},
   "source": [
    "Execute SLURM array master file"
   ]
  },
  {
   "cell_type": "code",
   "execution_count": 3,
   "metadata": {},
   "outputs": [],
   "source": [
    "%%script --out blocking_job_str bash -s \"$blocking_job\"\n",
    "source /data/reddylab/software/miniconda2/bin/activate cwl10\n",
    "sbatch -p all,new \\\n",
    " --array 0-8%20 \\\n",
    " /data/reddylab/Alex/collab/20190701_Matt//processing/chip_seq/scripts/Siklenka_6621_201109A5-pe.sh"
   ]
  },
  {
   "cell_type": "markdown",
   "metadata": {},
   "source": [
    "Extract blocking job id"
   ]
  },
  {
   "cell_type": "code",
   "execution_count": 13,
   "metadata": {},
   "outputs": [],
   "source": [
    "import re\n",
    "blocking_job = re.match('Submitted batch job (\\d+).*', blocking_job_str).group(1)"
   ]
  },
  {
   "cell_type": "code",
   "execution_count": 16,
   "metadata": {},
   "outputs": [
    {
     "data": {
      "text/plain": [
       "'23238632'"
      ]
     },
     "execution_count": 16,
     "metadata": {},
     "output_type": "execute_result"
    }
   ],
   "source": [
    "blocking_job"
   ]
  },
  {
   "cell_type": "code",
   "execution_count": 18,
   "metadata": {},
   "outputs": [],
   "source": [
    "%%bash\n",
    "sbatch --mail-user=ks476@duke.edu --mail-type=BEGIN --dependency=afterany:23238632 --wrap \"echo K27ac samples finished\""
   ]
  },
  {
   "cell_type": "markdown",
   "metadata": {},
   "source": [
    "#### Create QC generating script"
   ]
  },
  {
   "cell_type": "code",
   "execution_count": 14,
   "metadata": {},
   "outputs": [
    {
     "name": "stdout",
     "output_type": "stream",
     "text": [
      "Writing /data/reddylab/Alex/collab/20190701_Matt//processing/chip_seq/scripts/generate_qc_cell_Siklenka_6621_201109A5-pe.sh\n"
     ]
    }
   ],
   "source": [
    "%%writefile /data/reddylab/Alex/collab/20190701_Matt//processing/chip_seq/scripts/generate_qc_cell_Siklenka_6621_201109A5-pe.sh\n",
    "#!/bin/bash\n",
    "#SBATCH --job-name=qc\n",
    "#SBATCH --output=/data/reddylab/Alex/collab/20190701_Matt//processing/chip_seq/logs/qc_gen.Siklenka_6621_201109A5-pe.out\n",
    "\n",
    "source /data/reddylab/software/miniconda2/bin/activate alex\n",
    "cd /data/reddylab/Alex/collab/20190701_Matt//processing/chip_seq/Siklenka_6621_201109A5-pe\n",
    "\n",
    "python /data/reddylab/software/cwl/bin/generate_stats_chipseq_paired_end.py ./ \\\n",
    "    -samples $(/bin/ls -1 *PBC.txt | sed 's@.PBC.txt@@') \\\n",
    "> qc.txt"
   ]
  },
  {
   "cell_type": "markdown",
   "metadata": {},
   "source": [
    "Generate QCs for Siklenka_6621_201109A5-pe"
   ]
  },
  {
   "cell_type": "code",
   "execution_count": 15,
   "metadata": {},
   "outputs": [],
   "source": [
    "%%script --out blocking_job_str bash -s \"$blocking_job\"\n",
    "sbatch -p all,new \\\n",
    " --depend afterok:$1 \\\n",
    " /data/reddylab/Alex/collab/20190701_Matt//processing/chip_seq/scripts/generate_qc_cell_Siklenka_6621_201109A5-pe.sh"
   ]
  },
  {
   "cell_type": "markdown",
   "metadata": {},
   "source": [
    "Extract blocking job id"
   ]
  },
  {
   "cell_type": "code",
   "execution_count": null,
   "metadata": {},
   "outputs": [],
   "source": [
    "import re\n",
    "blocking_job = re.match('Submitted batch job (\\d+).*', blocking_job_str).group(1)"
   ]
  },
  {
   "cell_type": "markdown",
   "metadata": {},
   "source": [
    "#### Create plot generating script"
   ]
  },
  {
   "cell_type": "code",
   "execution_count": null,
   "metadata": {},
   "outputs": [],
   "source": [
    "%%writefile /data/reddylab/Alex/collab/20190701_Matt//processing/chip_seq/scripts/generate_plot.Siklenka_6621_201109A5-pe.sh\n",
    "#!/bin/bash\n",
    "#SBATCH --job-name=generate_fingerplot\n",
    "#SBATCH --output=/data/reddylab/Alex/collab/20190701_Matt//processing/chip_seq/logs/generate-plot.Siklenka_6621_201109A5-pe-%a.out\n",
    "\n",
    "# This script is a subscript ran from `countFactors_standard.sh` for\n",
    "# data insertion into the ChIP-DB web application. Intended for samples\n",
    "# that follow the Reddy Lab sequencing sample naming conventions.\n",
    "\n",
    "METADATA=/data/reddylab/Alex/collab/20190701_Matt//data/chip_seq/metadata/chip_seq_download_metadata.Siklenka_6621_201109A5.txt\n",
    "IN_DIR=/data/reddylab/Alex/collab/20190701_Matt//processing/chip_seq/Siklenka_6621_201109A5-pe\n",
    "OUT_DIR=/data/reddylab/Alex/collab/20190701_Matt//processing/chip_seq/Siklenka_6621_201109A5-pe\n",
    "\n",
    "# Initialize and read in the indices for each field\n",
    "FLOWCELL_INDEX=-1; FACTOR_INDEX=-1; INPUT_CTRL_INDEX=-1\n",
    "HEADER=$(head -n 1 ${METADATA} | tr '[:upper:]' '[:lower:]')\n",
    "IFS=$'\\t' read -ra ADDR <<< \"$HEADER\"\n",
    "for i in \"${!ADDR[@]}\"; do\n",
    "        # If index denotes field, change the index. Cut is 1-indexed, add 1\n",
    "        if [[ ${ADDR[$i]} = 'name' ]] ; then\n",
    "                FACTOR_INDEX=$((i+1))\n",
    "        elif [[ ${ADDR[$i]} = 'experiment name' ]] || [[ ${ADDR[$i]} = 'sequencing core project' ]] ; then\n",
    "                FLOWCELL_INDEX=$((i+1))\n",
    "        elif [[ ${ADDR[$i]} = 'Control' ]]; then\n",
    "                INPUT_CTRL_INDEX=$((i+1))\n",
    "        fi\n",
    "done\n",
    "\n",
    "# Add 2 to skip 0th line and 1st line which is header\n",
    "LINE_NUM=$((${SLURM_ARRAY_TASK_ID}+2))\n",
    "FILE_LINE=$(sed -n \"${LINE_NUM}p\" ${METADATA})\n",
    "FLOWCELL=$(echo \"$FILE_LINE\" | cut -f${FLOWCELL_INDEX})\n",
    "FACTOR=$(echo \"$FILE_LINE\" | cut -f${FACTOR_INDEX})\n",
    "FACTOR_FILE=$(/bin/ls -1 ${IN_DIR}/${FACTOR}*.bam.bai | sed \"s/.bai//\")\n",
    "INPUT_CTRL=$(echo \"$FILE_LINE\" | cut -f${INPUT_CTRL_INDEX})\n",
    "INPUT_CTRL_FILE=$(/bin/ls -1 ${IN_DIR}/${INPUT_CTRL}*bam)\n",
    "if [ $INPUT_CTRL_INDEX == -1 ];\n",
    "then\n",
    "        INPUT_CTRL=\"\"\n",
    "        INPUT_CTRL_FILE=\"\"\n",
    "fi\n",
    "echo \"Factor is: ${FACTOR}, file is: ${FACTOR_FILE}\"\n",
    "echo \"Flowcell is: ${FLOWCELL}, Input control is: ${INPUT_CTRL}\"\n",
    "\n",
    "# Write sample metadata to file with name, timestamp and\n",
    "# additional information\n",
    "METADATA_FILE=\"${OUT_DIR}/${FACTOR}_metadata.txt\"\n",
    "TIMESTAMP=$(stat -c%z ${METADATA} | cut -d' ' -f1)\n",
    "HEADER=\"Factor\\tFlowcell\\tInput_control\\tTimestamp\"\n",
    "echo -e ${HEADER} > ${METADATA_FILE}\n",
    "echo -e \"${FACTOR}\\t${FLOWCELL}\\t${INPUT_CTRL}\\t${TIMESTAMP}\" >> ${METADATA_FILE}\n",
    "\n",
    "\n",
    "# Case where sample has w/ Input control\n",
    "if [ $INPUT_CTRL_INDEX != -1 ];\n",
    "then\n",
    "        echo \"Sample, ${FACTOR_FILE}, has Input control ${INPUT_CTRL}\"\n",
    "        plotFingerprint -b ${FACTOR_FILE} ${INPUT_CTRL_FILE} \\\n",
    "        --labels ${FACTOR} ${INPUT_CTRL} \\\n",
    "        --outQualityMetrics ${OUT_DIR}/${FACTOR}_QCmetrics.txt \\\n",
    "        -T \"Fingerprint of ${FACTOR}\" \\\n",
    "        -plot ${OUT_DIR}/${FACTOR}.png \\\n",
    "        --outRawCounts ${OUT_DIR}/${FACTOR}_counts.tab\n",
    "# Case where sample has no control\n",
    "else\n",
    "        echo \"Sample, ${FACTOR_FILE}, has no controls\"\n",
    "        plotFingerprint -b ${FACTOR_FILE} \\\n",
    "        --labels ${FACTOR} \\\n",
    "        --outQualityMetrics ${OUT_DIR}/${FACTOR}_QCmetrics.txt \\\n",
    "        -T \"Fingerprint of ${FACTOR}\" \\\n",
    "        -plot ${OUT_DIR}/${FACTOR}.png \\\n",
    "        --outRawCounts ${OUT_DIR}/${FACTOR}_counts.tab\n",
    "fi\n",
    "\n",
    "exit 0"
   ]
  },
  {
   "cell_type": "markdown",
   "metadata": {},
   "source": [
    "Generate plots and data for website"
   ]
  },
  {
   "cell_type": "code",
   "execution_count": null,
   "metadata": {},
   "outputs": [],
   "source": [
    "%%script --out blocking_job_str bash -s \"$blocking_job\"\n",
    "source /data/reddylab/software/miniconda2/bin/activate cwl10\n",
    "sbatch -p all,new \\\n",
    " --depend afterok:$1 \\\n",
    " --array 0-8%5 \\\n",
    " /data/reddylab/Alex/collab/20190701_Matt//processing/chip_seq/scripts/generate_plot.Siklenka_6621_201109A5-pe.sh"
   ]
  },
  {
   "cell_type": "markdown",
   "metadata": {},
   "source": [
    "Extract blocking job id"
   ]
  },
  {
   "cell_type": "code",
   "execution_count": null,
   "metadata": {},
   "outputs": [],
   "source": [
    "import re\n",
    "blocking_job = re.match('Submitted batch job (\\d+).*', blocking_job_str).group(1)"
   ]
  },
  {
   "cell_type": "markdown",
   "metadata": {},
   "source": [
    "#### Create data upload script"
   ]
  },
  {
   "cell_type": "code",
   "execution_count": null,
   "metadata": {},
   "outputs": [],
   "source": [
    "%%writefile /data/reddylab/Alex/collab/20190701_Matt//processing/chip_seq/scripts/data_upload_Siklenka_6621_201109A5-pe.sh\n",
    "#!/bin/bash\n",
    "#SBATCH --job-name=data_upload\n",
    "#SBATCH --output=/data/reddylab/Alex/collab/20190701_Matt//processing/chip_seq/logs/data_upload.Siklenka_6621_201109A5-pe.out\n",
    "\n",
    "source /data/reddylab/software/miniconda2/bin/activate alex\n",
    "python /gpfs/fs1/data/reddylab/software/cwl/ggr-cwl-ipynb-gen/data_upload.py -i /data/reddylab/Alex/collab/20190701_Matt//processing/chip_seq/Siklenka_6621_201109A5-pe -u None -d None -c None -o /data/reddylab/Alex/collab/20190701_Matt//processing/chip_seq/logs/Siklenka_6621_201109A5-pe_data_upload.log"
   ]
  },
  {
   "cell_type": "markdown",
   "metadata": {},
   "source": [
    "### Upload ChIP-seq to web-application"
   ]
  },
  {
   "cell_type": "code",
   "execution_count": null,
   "metadata": {},
   "outputs": [],
   "source": [
    "%%script --out blocking_job_str bash -s \"$blocking_job\"\n",
    "source /data/reddylab/software/miniconda2/bin/activate alex\n",
    "sbatch -p all,new \\\n",
    " --depend afterok:$1 \\\n",
    " /data/reddylab/Alex/collab/20190701_Matt//processing/chip_seq/scripts/data_upload_Siklenka_6621_201109A5-pe.sh"
   ]
  },
  {
   "cell_type": "markdown",
   "metadata": {},
   "source": [
    "Extract blocking job id"
   ]
  },
  {
   "cell_type": "code",
   "execution_count": null,
   "metadata": {},
   "outputs": [],
   "source": [
    "import re\n",
    "blocking_job = re.match('Submitted batch job (\\d+).*', blocking_job_str).group(1)"
   ]
  }
 ],
 "metadata": {
  "kernelspec": {
   "display_name": "Python 3",
   "language": "python",
   "name": "python3"
  },
  "language_info": {
   "codemirror_mode": {
    "name": "ipython",
    "version": 3
   },
   "file_extension": ".py",
   "mimetype": "text/x-python",
   "name": "python",
   "nbconvert_exporter": "python",
   "pygments_lexer": "ipython3",
   "version": "3.7.6"
  }
 },
 "nbformat": 4,
 "nbformat_minor": 1
}
